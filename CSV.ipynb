{
 "cells": [
  {
   "cell_type": "code",
   "execution_count": 1,
   "id": "62bfc239",
   "metadata": {},
   "outputs": [],
   "source": [
    "import pandas as pd"
   ]
  },
  {
   "cell_type": "code",
   "execution_count": 97,
   "id": "f42b6141-f0a9-4ced-87b6-951db378e107",
   "metadata": {},
   "outputs": [],
   "source": [
    "\n",
    "df = pd.read_csv('top-1m.csv', header=None)\n",
    "df.iloc[12400:12500].to_csv('test_data.csv', index=False, header=False)"
   ]
  },
  {
   "cell_type": "code",
   "execution_count": 46,
   "id": "3c5ac82d-c4ff-459f-a2cd-e943f6a92bed",
   "metadata": {},
   "outputs": [],
   "source": [
    "df1 = pd.read_csv('csv\\\\database500.csv')\n",
    "df2 = pd.read_csv('csv\\\\database500-1000.csv')\n",
    "df3 = pd.read_csv('csv\\\\database1000-2000.csv')\n",
    "df4 = pd.read_csv('csv\\\\database2000-3000.csv')\n",
    "df5 = pd.read_csv('csv\\\\database3000-3500.csv')\n",
    "df6 = pd.read_csv('csv\\\\database3500-4000.csv')\n",
    "df7 = pd.read_csv('csv\\\\database4000-4500.csv')\n",
    "df8 = pd.read_csv('csv\\\\database4500-5000.csv')\n",
    "df9 = pd.read_csv('csv\\\\database5500-6000.csv')\n",
    "df10 = pd.read_csv('csv\\\\database6000-6500.csv')\n",
    "df11 = pd.read_csv('csv\\\\database6500-7000.csv')\n",
    "df12 = pd.read_csv('csv\\\\database7000-7500.csv')\n",
    "df13 = pd.read_csv('csv\\\\database7500-8000.csv')\n",
    "\n",
    "files = [df1, df2, df3, df4, df5, df6, df7, df8, df9, df10, df11, df12, df13]\n",
    "\n",
    "pd.concat(files).to_csv('csv\\\\database.csv', index=False)"
   ]
  },
  {
   "cell_type": "markdown",
   "id": "a39a57a3",
   "metadata": {},
   "source": []
  },
  {
   "cell_type": "code",
   "execution_count": 7,
   "id": "699445c1",
   "metadata": {},
   "outputs": [],
   "source": [
    "dfmain = pd.read_csv('csv\\\\database.csv')"
   ]
  },
  {
   "cell_type": "code",
   "execution_count": null,
   "id": "4343e5a6",
   "metadata": {},
   "outputs": [],
   "source": []
  }
 ],
 "metadata": {
  "kernelspec": {
   "display_name": "Python 3 (ipykernel)",
   "language": "python",
   "name": "python3"
  },
  "language_info": {
   "codemirror_mode": {
    "name": "ipython",
    "version": 3
   },
   "file_extension": ".py",
   "mimetype": "text/x-python",
   "name": "python",
   "nbconvert_exporter": "python",
   "pygments_lexer": "ipython3",
   "version": "3.10.4"
  }
 },
 "nbformat": 4,
 "nbformat_minor": 5
}
