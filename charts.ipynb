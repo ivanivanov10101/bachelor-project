{
 "cells": [
  {
   "cell_type": "code",
   "execution_count": 28,
   "metadata": {},
   "outputs": [],
   "source": [
    "import pandas as pd\n",
    "import numpy as np\n",
    "import matplotlib.pyplot as plt\n",
    "import seaborn as sns\n",
    "\n",
    "# pd.set_option('display.float_format', lambda x: '%.9f' % x)"
   ]
  },
  {
   "cell_type": "code",
   "execution_count": 29,
   "metadata": {},
   "outputs": [],
   "source": [
    "df = pd.read_csv('main.csv')"
   ]
  },
  {
   "cell_type": "code",
   "execution_count": 30,
   "metadata": {},
   "outputs": [
    {
     "data": {
      "text/html": [
       "<div>\n",
       "<style scoped>\n",
       "    .dataframe tbody tr th:only-of-type {\n",
       "        vertical-align: middle;\n",
       "    }\n",
       "\n",
       "    .dataframe tbody tr th {\n",
       "        vertical-align: top;\n",
       "    }\n",
       "\n",
       "    .dataframe thead th {\n",
       "        text-align: right;\n",
       "    }\n",
       "</style>\n",
       "<table border=\"1\" class=\"dataframe\">\n",
       "  <thead>\n",
       "    <tr style=\"text-align: right;\">\n",
       "      <th></th>\n",
       "      <th>Unnamed: 0</th>\n",
       "      <th>URL</th>\n",
       "      <th>Green Hosting</th>\n",
       "      <th>Bytes</th>\n",
       "      <th>Cleaner Than %</th>\n",
       "      <th>Stats_Adjusted Bytes</th>\n",
       "      <th>Stats_Energy</th>\n",
       "      <th>Stats_CO2_Grid_Grams</th>\n",
       "      <th>Stats_CO2_Grid_Litres</th>\n",
       "      <th>Stats_CO2_Renewable_Grams</th>\n",
       "      <th>Stats_CO2_Renewable_Litres</th>\n",
       "    </tr>\n",
       "  </thead>\n",
       "  <tbody>\n",
       "    <tr>\n",
       "      <th>0</th>\n",
       "      <td>https://www.google.com/</td>\n",
       "      <td>True</td>\n",
       "      <td>170821</td>\n",
       "      <td>0.96</td>\n",
       "      <td>128969.855</td>\n",
       "      <td>0.000097</td>\n",
       "      <td>0.043003</td>\n",
       "      <td>0.023918</td>\n",
       "      <td>0.037282</td>\n",
       "      <td>0.020736</td>\n",
       "      <td>1651677726</td>\n",
       "    </tr>\n",
       "    <tr>\n",
       "      <th>1</th>\n",
       "      <td>https://www.youtube.com/</td>\n",
       "      <td>True</td>\n",
       "      <td>3543405</td>\n",
       "      <td>0.32</td>\n",
       "      <td>2675270.775</td>\n",
       "      <td>0.002018</td>\n",
       "      <td>0.892021</td>\n",
       "      <td>0.496142</td>\n",
       "      <td>0.773354</td>\n",
       "      <td>0.430140</td>\n",
       "      <td>1651668187</td>\n",
       "    </tr>\n",
       "    <tr>\n",
       "      <th>2</th>\n",
       "      <td>https://www.facebook.com/</td>\n",
       "      <td>True</td>\n",
       "      <td>435816</td>\n",
       "      <td>0.91</td>\n",
       "      <td>329041.080</td>\n",
       "      <td>0.000248</td>\n",
       "      <td>0.109713</td>\n",
       "      <td>0.061022</td>\n",
       "      <td>0.095118</td>\n",
       "      <td>0.052904</td>\n",
       "      <td>1651677735</td>\n",
       "    </tr>\n",
       "    <tr>\n",
       "      <th>3</th>\n",
       "      <td>https://www.netflix.com/fr-en/</td>\n",
       "      <td>True</td>\n",
       "      <td>2004776</td>\n",
       "      <td>0.54</td>\n",
       "      <td>1513605.880</td>\n",
       "      <td>0.001142</td>\n",
       "      <td>0.504685</td>\n",
       "      <td>0.280706</td>\n",
       "      <td>0.437546</td>\n",
       "      <td>0.243363</td>\n",
       "      <td>1651677748</td>\n",
       "    </tr>\n",
       "    <tr>\n",
       "      <th>4</th>\n",
       "      <td>https://www.microsoft.com/fr-fr/</td>\n",
       "      <td>unknown</td>\n",
       "      <td>768548</td>\n",
       "      <td>0.80</td>\n",
       "      <td>580253.740</td>\n",
       "      <td>0.000438</td>\n",
       "      <td>0.193475</td>\n",
       "      <td>0.107611</td>\n",
       "      <td>0.167737</td>\n",
       "      <td>0.093295</td>\n",
       "      <td>1651677764</td>\n",
       "    </tr>\n",
       "    <tr>\n",
       "      <th>...</th>\n",
       "      <td>...</td>\n",
       "      <td>...</td>\n",
       "      <td>...</td>\n",
       "      <td>...</td>\n",
       "      <td>...</td>\n",
       "      <td>...</td>\n",
       "      <td>...</td>\n",
       "      <td>...</td>\n",
       "      <td>...</td>\n",
       "      <td>...</td>\n",
       "      <td>...</td>\n",
       "    </tr>\n",
       "    <tr>\n",
       "      <th>47333</th>\n",
       "      <td>https://www.flashscore.pt/</td>\n",
       "      <td>unknown</td>\n",
       "      <td>2149224</td>\n",
       "      <td>0.45</td>\n",
       "      <td>1622664.120</td>\n",
       "      <td>0.001224</td>\n",
       "      <td>0.541048</td>\n",
       "      <td>0.300931</td>\n",
       "      <td>0.469072</td>\n",
       "      <td>0.260898</td>\n",
       "      <td>1652957191</td>\n",
       "    </tr>\n",
       "    <tr>\n",
       "      <th>47334</th>\n",
       "      <td>https://v2ray.com/</td>\n",
       "      <td>True</td>\n",
       "      <td>618423</td>\n",
       "      <td>0.87</td>\n",
       "      <td>466909.365</td>\n",
       "      <td>0.000352</td>\n",
       "      <td>0.155683</td>\n",
       "      <td>0.086591</td>\n",
       "      <td>0.134972</td>\n",
       "      <td>0.075071</td>\n",
       "      <td>1652957209</td>\n",
       "    </tr>\n",
       "    <tr>\n",
       "      <th>47335</th>\n",
       "      <td>https://www.ac-bordeaux.fr/</td>\n",
       "      <td>unknown</td>\n",
       "      <td>4707130</td>\n",
       "      <td>0.20</td>\n",
       "      <td>3553883.150</td>\n",
       "      <td>0.002681</td>\n",
       "      <td>1.184979</td>\n",
       "      <td>0.659085</td>\n",
       "      <td>1.027339</td>\n",
       "      <td>0.571406</td>\n",
       "      <td>1652957215</td>\n",
       "    </tr>\n",
       "    <tr>\n",
       "      <th>47336</th>\n",
       "      <td>https://cialsonline.quest/</td>\n",
       "      <td>True</td>\n",
       "      <td>33989</td>\n",
       "      <td>0.99</td>\n",
       "      <td>25661.695</td>\n",
       "      <td>0.000019</td>\n",
       "      <td>0.008556</td>\n",
       "      <td>0.004759</td>\n",
       "      <td>0.007418</td>\n",
       "      <td>0.004126</td>\n",
       "      <td>1652957207</td>\n",
       "    </tr>\n",
       "    <tr>\n",
       "      <th>47337</th>\n",
       "      <td>https://www.bs.ch/</td>\n",
       "      <td>unknown</td>\n",
       "      <td>1289817</td>\n",
       "      <td>0.64</td>\n",
       "      <td>973811.835</td>\n",
       "      <td>0.000735</td>\n",
       "      <td>0.324700</td>\n",
       "      <td>0.180598</td>\n",
       "      <td>0.281505</td>\n",
       "      <td>0.156573</td>\n",
       "      <td>1652957211</td>\n",
       "    </tr>\n",
       "  </tbody>\n",
       "</table>\n",
       "<p>47338 rows × 11 columns</p>\n",
       "</div>"
      ],
      "text/plain": [
       "                             Unnamed: 0      URL  Green Hosting  Bytes  \\\n",
       "0               https://www.google.com/     True         170821   0.96   \n",
       "1              https://www.youtube.com/     True        3543405   0.32   \n",
       "2             https://www.facebook.com/     True         435816   0.91   \n",
       "3        https://www.netflix.com/fr-en/     True        2004776   0.54   \n",
       "4      https://www.microsoft.com/fr-fr/  unknown         768548   0.80   \n",
       "...                                 ...      ...            ...    ...   \n",
       "47333        https://www.flashscore.pt/  unknown        2149224   0.45   \n",
       "47334                https://v2ray.com/     True         618423   0.87   \n",
       "47335       https://www.ac-bordeaux.fr/  unknown        4707130   0.20   \n",
       "47336        https://cialsonline.quest/     True          33989   0.99   \n",
       "47337                https://www.bs.ch/  unknown        1289817   0.64   \n",
       "\n",
       "       Cleaner Than %  Stats_Adjusted Bytes  Stats_Energy  \\\n",
       "0          128969.855              0.000097      0.043003   \n",
       "1         2675270.775              0.002018      0.892021   \n",
       "2          329041.080              0.000248      0.109713   \n",
       "3         1513605.880              0.001142      0.504685   \n",
       "4          580253.740              0.000438      0.193475   \n",
       "...               ...                   ...           ...   \n",
       "47333     1622664.120              0.001224      0.541048   \n",
       "47334      466909.365              0.000352      0.155683   \n",
       "47335     3553883.150              0.002681      1.184979   \n",
       "47336       25661.695              0.000019      0.008556   \n",
       "47337      973811.835              0.000735      0.324700   \n",
       "\n",
       "       Stats_CO2_Grid_Grams  Stats_CO2_Grid_Litres  Stats_CO2_Renewable_Grams  \\\n",
       "0                  0.023918               0.037282                   0.020736   \n",
       "1                  0.496142               0.773354                   0.430140   \n",
       "2                  0.061022               0.095118                   0.052904   \n",
       "3                  0.280706               0.437546                   0.243363   \n",
       "4                  0.107611               0.167737                   0.093295   \n",
       "...                     ...                    ...                        ...   \n",
       "47333              0.300931               0.469072                   0.260898   \n",
       "47334              0.086591               0.134972                   0.075071   \n",
       "47335              0.659085               1.027339                   0.571406   \n",
       "47336              0.004759               0.007418                   0.004126   \n",
       "47337              0.180598               0.281505                   0.156573   \n",
       "\n",
       "       Stats_CO2_Renewable_Litres  \n",
       "0                      1651677726  \n",
       "1                      1651668187  \n",
       "2                      1651677735  \n",
       "3                      1651677748  \n",
       "4                      1651677764  \n",
       "...                           ...  \n",
       "47333                  1652957191  \n",
       "47334                  1652957209  \n",
       "47335                  1652957215  \n",
       "47336                  1652957207  \n",
       "47337                  1652957211  \n",
       "\n",
       "[47338 rows x 11 columns]"
      ]
     },
     "execution_count": 30,
     "metadata": {},
     "output_type": "execute_result"
    }
   ],
   "source": [
    "df"
   ]
  },
  {
   "cell_type": "code",
   "execution_count": 31,
   "metadata": {},
   "outputs": [],
   "source": [
    "df.columns = ['URL', 'Green Hosting', 'Bytes', 'Cleaner Than %', \"Statistics: Adjusted Bytes\", \"Statistics: Energy\", \"Statistics: CO2 Grams, Grid\", \"Statistics: CO2 Litres, Grid\", \"Statistics: CO2 Grams, Renewable\", \"Statistics: CO2 Litres, Renewable\", \"Timestamp\"]"
   ]
  },
  {
   "cell_type": "code",
   "execution_count": 32,
   "metadata": {},
   "outputs": [
    {
     "data": {
      "image/png": "[encoded data removed]",
      "text/plain": [
       "<Figure size 432x288 with 1 Axes>"
      ]
     },
     "metadata": {
      "needs_background": "light"
     },
     "output_type": "display_data"
    }
   ],
   "source": [
    "mean = df['Bytes'].mean()\n",
    "median = df['Bytes'].median()\n",
    "std = df['Bytes'].std()\n",
    "data = [mean, median, std]\n",
    "dfmmms = pd.DataFrame(data)\n",
    "\n",
    "ax = dfmmms.T.plot(kind='bar')\n",
    "for container in ax.containers:\n",
    "    ax.bar_label(container)\n",
    "ax.legend(['Mean', 'Median', 'Std'])\n",
    "plt.show()"
   ]
  },
  {
   "cell_type": "code",
   "execution_count": 33,
   "metadata": {},
   "outputs": [
    {
     "data": {
      "image/png": "[encoded data removed]",
      "text/plain": [
       "<Figure size 432x288 with 1 Axes>"
      ]
     },
     "metadata": {
      "needs_background": "light"
     },
     "output_type": "display_data"
    }
   ],
   "source": [
    "import numpy as np\n",
    "import matplotlib.pyplot as plt\n",
    "import seaborn as sns\n",
    "\n",
    "x = np.random.normal(np.tile(np.random.uniform(10, 30, 5), 50), 3)\n",
    "ax = sns.kdeplot(df['Bytes'][0:100], shade=False, color='crimson')\n",
    "kdeline = ax.lines[0]\n",
    "mean = df['Bytes'].mean()\n",
    "xs = kdeline.get_xdata()\n",
    "ys = kdeline.get_ydata()\n",
    "height = np.interp(mean, xs, ys)\n",
    "ax.vlines(mean, 0, height, color='crimson', ls=':')\n",
    "ax.fill_between(xs, 0, ys, facecolor='crimson', alpha=0.2)\n",
    "plt.show()"
   ]
  },
  {
   "cell_type": "code",
   "execution_count": 34,
   "metadata": {},
   "outputs": [
    {
     "data": {
      "text/plain": [
       "[<matplotlib.lines.Line2D at 0x1ef3a46fbe0>]"
      ]
     },
     "execution_count": 34,
     "metadata": {},
     "output_type": "execute_result"
    },
    {
     "data": {
      "image/png": "[encoded data removed]",
      "text/plain": [
       "<Figure size 432x288 with 1 Axes>"
      ]
     },
     "metadata": {
      "needs_background": "light"
     },
     "output_type": "display_data"
    }
   ],
   "source": [
    "bytes = df['Bytes'][0:100].sort_values()\n",
    "bytes = bytes.to_list()\n",
    "plt.plot(bytes)"
   ]
  },
  {
   "cell_type": "code",
   "execution_count": 35,
   "metadata": {},
   "outputs": [
    {
     "data": {
      "text/plain": [
       "<AxesSubplot:xlabel='Bytes', ylabel='Cleaner Than %'>"
      ]
     },
     "execution_count": 35,
     "metadata": {},
     "output_type": "execute_result"
    },
    {
     "data": {
      "image/png": "[encoded data removed]",
      "text/plain": [
       "<Figure size 432x288 with 1 Axes>"
      ]
     },
     "metadata": {
      "needs_background": "light"
     },
     "output_type": "display_data"
    }
   ],
   "source": [
    "sns.regplot(x=df[\"Bytes\"][0:100], y=df[\"Cleaner Than %\"][0:100], color='crimson')"
   ]
  },
  {
   "cell_type": "code",
   "execution_count": 36,
   "metadata": {},
   "outputs": [],
   "source": [
    "df = df.drop_duplicates(subset=['URL'], keep='first')"
   ]
  },
  {
   "cell_type": "markdown",
   "metadata": {},
   "source": [
    "# Ranges"
   ]
  },
  {
   "cell_type": "code",
   "execution_count": 37,
   "metadata": {},
   "outputs": [],
   "source": [
    "first100 = df.head(100)\n",
    "last100 = df.tail(100)"
   ]
  },
  {
   "cell_type": "code",
   "execution_count": 38,
   "metadata": {},
   "outputs": [
    {
     "data": {
      "text/plain": [
       "3722646.93"
      ]
     },
     "execution_count": 38,
     "metadata": {},
     "output_type": "execute_result"
    }
   ],
   "source": [
    "first100['Bytes'].mean()\n",
    "last100['Bytes'].mean()"
   ]
  },
  {
   "cell_type": "code",
   "execution_count": 39,
   "metadata": {},
   "outputs": [
    {
     "data": {
      "text/plain": [
       "0.002120234752112485"
      ]
     },
     "execution_count": 39,
     "metadata": {},
     "output_type": "execute_result"
    }
   ],
   "source": [
    "first100['Statistics: Energy'].mean()\n",
    "last100['Statistics: Energy'].mean()"
   ]
  },
  {
   "cell_type": "code",
   "execution_count": 40,
   "metadata": {},
   "outputs": [
    {
     "data": {
      "text/plain": [
       "0.9371437604337401"
      ]
     },
     "execution_count": 40,
     "metadata": {},
     "output_type": "execute_result"
    }
   ],
   "source": [
    "first100['Statistics: CO2 Grams, Grid'].mean()\n",
    "last100['Statistics: CO2 Grams, Grid'].mean()"
   ]
  },
  {
   "cell_type": "code",
   "execution_count": 41,
   "metadata": {},
   "outputs": [],
   "source": [
    "true = df[df['Green Hosting'].str.contains('True')]\n",
    "unknown = df[df['Green Hosting'].str.contains('unknown')]"
   ]
  },
  {
   "cell_type": "code",
   "execution_count": 42,
   "metadata": {},
   "outputs": [],
   "source": [
    "# Stats for True and Unknown per quartiles maybe, or for how Cleaner Than % is distributed along with the other stats.\n",
    "# Splitting the dataframe into subgroups and then generating stats for each subgroup should be the best way to do this."
   ]
  },
  {
   "cell_type": "markdown",
   "metadata": {},
   "source": [
    "# Per Top-level Domain / Site\n",
    "## Companies"
   ]
  },
  {
   "cell_type": "code",
   "execution_count": 43,
   "metadata": {},
   "outputs": [],
   "source": [
    "google = df[df['URL'].str.contains('google')]\n",
    "microsoft = df[df['URL'].str.contains('microsoft')]\n",
    "apple = df[df['URL'].str.contains('.apple.com')]\n",
    "airbnb = df[df['URL'].str.contains('airbnb')]\n",
    "netflix = df[df['URL'].str.contains('netflix')]\n",
    "marvel = df[df['URL'].str.contains('marvel')]\n",
    "nike = df[df['URL'].str.contains('nike')]\n",
    "adiddas = df[df['URL'].str.contains('adiddas')]\n",
    "gucci = df[df['URL'].str.contains('gucci')]\n",
    "ikea = df[df['URL'].str.contains('ikea')]\n",
    "lenovo = df[df['URL'].str.contains('lenovo')]\n",
    "asus = df[df['URL'].str.contains('asus')]\n",
    "huawei = df[df['URL'].str.contains('huawei')]\n",
    "disney = df[df['URL'].str.contains('disney')]\n",
    "warner = df[df['URL'].str.contains('warner')]\n",
    "canon = df[df['URL'].str.contains('canon')]\n",
    "xiaomi = df[df['URL'].str.contains('xiaomi')]\n",
    "nintendo = df[df['URL'].str.contains('nintendo')]\n",
    "playstation = df[df['URL'].str.contains('playstation')]\n",
    "xbox = df[df['URL'].str.contains('xbox')]\n",
    "sony = df[df['URL'].str.contains('sony')]\n",
    "logitech = df[df['URL'].str.contains('logitech')]\n",
    "toshiba = df[df['URL'].str.contains('toshiba')]\n",
    "bosch = df[df['URL'].str.contains('bosch')]\n",
    "philips = df[df['URL'].str.contains('philips')]\n",
    "linkedin = df[df['URL'].str.contains('linkedin')]\n",
    "uber = df[df['URL'].str.contains('uber')]"
   ]
  },
  {
   "cell_type": "code",
   "execution_count": 44,
   "metadata": {},
   "outputs": [
    {
     "data": {
      "text/html": [
       "<div>\n",
       "<style scoped>\n",
       "    .dataframe tbody tr th:only-of-type {\n",
       "        vertical-align: middle;\n",
       "    }\n",
       "\n",
       "    .dataframe tbody tr th {\n",
       "        vertical-align: top;\n",
       "    }\n",
       "\n",
       "    .dataframe thead th {\n",
       "        text-align: right;\n",
       "    }\n",
       "</style>\n",
       "<table border=\"1\" class=\"dataframe\">\n",
       "  <thead>\n",
       "    <tr style=\"text-align: right;\">\n",
       "      <th></th>\n",
       "      <th>URL</th>\n",
       "      <th>Green Hosting</th>\n",
       "      <th>Bytes</th>\n",
       "      <th>Cleaner Than %</th>\n",
       "      <th>Statistics: Adjusted Bytes</th>\n",
       "      <th>Statistics: Energy</th>\n",
       "      <th>Statistics: CO2 Grams, Grid</th>\n",
       "      <th>Statistics: CO2 Litres, Grid</th>\n",
       "      <th>Statistics: CO2 Grams, Renewable</th>\n",
       "      <th>Statistics: CO2 Litres, Renewable</th>\n",
       "      <th>Timestamp</th>\n",
       "    </tr>\n",
       "  </thead>\n",
       "  <tbody>\n",
       "    <tr>\n",
       "      <th>8</th>\n",
       "      <td>https://www.linkedin.com/</td>\n",
       "      <td>unknown</td>\n",
       "      <td>413977</td>\n",
       "      <td>0.90</td>\n",
       "      <td>312552.635</td>\n",
       "      <td>0.000236</td>\n",
       "      <td>0.104215</td>\n",
       "      <td>0.057964</td>\n",
       "      <td>0.090351</td>\n",
       "      <td>0.050253</td>\n",
       "      <td>1651677871</td>\n",
       "    </tr>\n",
       "    <tr>\n",
       "      <th>1407</th>\n",
       "      <td>https://www.linkedin.com/hp</td>\n",
       "      <td>unknown</td>\n",
       "      <td>416020</td>\n",
       "      <td>0.90</td>\n",
       "      <td>314095.100</td>\n",
       "      <td>0.000237</td>\n",
       "      <td>0.104729</td>\n",
       "      <td>0.058250</td>\n",
       "      <td>0.090797</td>\n",
       "      <td>0.050501</td>\n",
       "      <td>1651679517</td>\n",
       "    </tr>\n",
       "    <tr>\n",
       "      <th>1889</th>\n",
       "      <td>https://www.linkedin.cn/injobs/hp/</td>\n",
       "      <td>unknown</td>\n",
       "      <td>130028</td>\n",
       "      <td>0.97</td>\n",
       "      <td>98171.140</td>\n",
       "      <td>0.000074</td>\n",
       "      <td>0.032733</td>\n",
       "      <td>0.018206</td>\n",
       "      <td>0.028379</td>\n",
       "      <td>0.015784</td>\n",
       "      <td>1651685519</td>\n",
       "    </tr>\n",
       "    <tr>\n",
       "      <th>4934</th>\n",
       "      <td>https://www.linkedin.com/learning/?trk=lynda_r...</td>\n",
       "      <td>unknown</td>\n",
       "      <td>2485676</td>\n",
       "      <td>0.40</td>\n",
       "      <td>1876685.380</td>\n",
       "      <td>0.001416</td>\n",
       "      <td>0.625747</td>\n",
       "      <td>0.348041</td>\n",
       "      <td>0.542503</td>\n",
       "      <td>0.301740</td>\n",
       "      <td>1651691409</td>\n",
       "    </tr>\n",
       "  </tbody>\n",
       "</table>\n",
       "</div>"
      ],
      "text/plain": [
       "                                                    URL Green Hosting  \\\n",
       "8                             https://www.linkedin.com/       unknown   \n",
       "1407                        https://www.linkedin.com/hp       unknown   \n",
       "1889                 https://www.linkedin.cn/injobs/hp/       unknown   \n",
       "4934  https://www.linkedin.com/learning/?trk=lynda_r...       unknown   \n",
       "\n",
       "        Bytes  Cleaner Than %  Statistics: Adjusted Bytes  Statistics: Energy  \\\n",
       "8      413977            0.90                  312552.635            0.000236   \n",
       "1407   416020            0.90                  314095.100            0.000237   \n",
       "1889   130028            0.97                   98171.140            0.000074   \n",
       "4934  2485676            0.40                 1876685.380            0.001416   \n",
       "\n",
       "      Statistics: CO2 Grams, Grid  Statistics: CO2 Litres, Grid  \\\n",
       "8                        0.104215                      0.057964   \n",
       "1407                     0.104729                      0.058250   \n",
       "1889                     0.032733                      0.018206   \n",
       "4934                     0.625747                      0.348041   \n",
       "\n",
       "      Statistics: CO2 Grams, Renewable  Statistics: CO2 Litres, Renewable  \\\n",
       "8                             0.090351                           0.050253   \n",
       "1407                          0.090797                           0.050501   \n",
       "1889                          0.028379                           0.015784   \n",
       "4934                          0.542503                           0.301740   \n",
       "\n",
       "       Timestamp  \n",
       "8     1651677871  \n",
       "1407  1651679517  \n",
       "1889  1651685519  \n",
       "4934  1651691409  "
      ]
     },
     "execution_count": 44,
     "metadata": {},
     "output_type": "execute_result"
    }
   ],
   "source": [
    "google\n",
    "microsoft\n",
    "apple\n",
    "airbnb\n",
    "linkedin"
   ]
  },
  {
   "cell_type": "markdown",
   "metadata": {},
   "source": [
    "# Regional\n",
    "## Original"
   ]
  },
  {
   "cell_type": "code",
   "execution_count": 45,
   "metadata": {},
   "outputs": [],
   "source": [
    "com = df[df['URL'].str.contains('.com/', regex = False)]\n",
    "gov = df[df['URL'].str.contains('.gov/', regex = False)]\n",
    "org = df[df['URL'].str.contains('.org/', regex = False)]\n",
    "net = df[df['URL'].str.contains('.net/', regex = False)]\n",
    "edu = df[df['URL'].str.contains('.edu/', regex = False)]\n",
    "int = df[df['URL'].str.contains('.int/', regex = False)]\n",
    "mil = df[df['URL'].str.contains('.mil/', regex = False)]\n",
    "app = df[df['URL'].str.contains('.app/', regex = False)]"
   ]
  },
  {
   "cell_type": "code",
   "execution_count": 46,
   "metadata": {},
   "outputs": [],
   "source": [
    "# com\n",
    "# couk\n",
    "# gov\n",
    "# bg\n",
    "# app"
   ]
  },
  {
   "cell_type": "markdown",
   "metadata": {},
   "source": [
    "## Most Popular"
   ]
  },
  {
   "cell_type": "code",
   "execution_count": 47,
   "metadata": {},
   "outputs": [],
   "source": [
    "com = df[df['URL'].str.contains('.com/', regex = False)]\n",
    "# Finish per link https://www.statista.com/statistics/265677/number-of-internet-top-level-domains-worldwide/"
   ]
  },
  {
   "cell_type": "markdown",
   "metadata": {},
   "source": [
    "## Per Continent / Country\n",
    "### EU + UK"
   ]
  },
  {
   "cell_type": "code",
   "execution_count": 48,
   "metadata": {},
   "outputs": [],
   "source": [
    "eu = df[df['URL'].str.contains('.eu/', regex = False)] # EU\n",
    "at = df[df['URL'].str.contains('.at/', regex = False)] # Austria\n",
    "be = df[df['URL'].str.contains('.be/', regex = False)] # Belgium\n",
    "bg = df[df['URL'].str.contains('.bg/', regex = False)] # Bulgaria\n",
    "by = df[df['URL'].str.contains('.by/', regex = False)] # Belarus\n",
    "hr = df[df['URL'].str.contains('.hr/', regex = False)] # Croatia\n",
    "cz = df[df['URL'].str.contains('.cz/', regex = False)] # Czech Republic\n",
    "de = df[df['URL'].str.contains('.de/', regex = False)] # Germany\n",
    "dk = df[df['URL'].str.contains('.dk/', regex = False)] # Denmark\n",
    "ee = df[df['URL'].str.contains('.ee/', regex = False)] # Estonia\n",
    "es = df[df['URL'].str.contains('.es/', regex = False)] # Spain\n",
    "fi = df[df['URL'].str.contains('.fi/', regex = False)] # Finland\n",
    "fr = df[df['URL'].str.contains('.fr/', regex = False)] # France\n",
    "gr = df[df['URL'].str.contains('.gr/', regex = False)] # Greece\n",
    "hu = df[df['URL'].str.contains('.hu/', regex = False)] # Hungary\n",
    "ie = df[df['URL'].str.contains('.ie/', regex = False)] # Ireland\n",
    "it = df[df['URL'].str.contains('.it/', regex = False)] # Italy\n",
    "lv = df[df['URL'].str.contains('.lv/', regex = False)] # Latvia\n",
    "lt = df[df['URL'].str.contains('.lt/', regex = False)] # Lithuania\n",
    "lu = df[df['URL'].str.contains('.lu/', regex = False)] # Luxembourg\n",
    "mt = df[df['URL'].str.contains('.mt/', regex = False)] # Malta\n",
    "uk = df[df['URL'].str.contains('.uk/', regex = False)] # United Kingdom\n",
    "gb = df[df['URL'].str.contains('.gb/', regex = False)] # Great Britain\n",
    "nl = df[df['URL'].str.contains('.nl/', regex = False)] # Netherlands\n",
    "pl = df[df['URL'].str.contains('.pl/', regex = False)] # Poland\n",
    "pt = df[df['URL'].str.contains('.pt/', regex = False)] # Portugal\n",
    "ro = df[df['URL'].str.contains('.ro/', regex = False)] # Romania\n",
    "sk = df[df['URL'].str.contains('.sk/', regex = False)] # Slovakia\n",
    "si = df[df['URL'].str.contains('.si/', regex = False)] # Slovenia\n",
    "se = df[df['URL'].str.contains('.se/', regex = False)] # Sweden"
   ]
  },
  {
   "cell_type": "code",
   "execution_count": 59,
   "metadata": {},
   "outputs": [
    {
     "data": {
      "text/html": [
       "<div>\n",
       "<style scoped>\n",
       "    .dataframe tbody tr th:only-of-type {\n",
       "        vertical-align: middle;\n",
       "    }\n",
       "\n",
       "    .dataframe tbody tr th {\n",
       "        vertical-align: top;\n",
       "    }\n",
       "\n",
       "    .dataframe thead th {\n",
       "        text-align: right;\n",
       "    }\n",
       "</style>\n",
       "<table border=\"1\" class=\"dataframe\">\n",
       "  <thead>\n",
       "    <tr style=\"text-align: right;\">\n",
       "      <th></th>\n",
       "      <th>URL</th>\n",
       "      <th>Green Hosting</th>\n",
       "      <th>Bytes</th>\n",
       "      <th>Cleaner Than %</th>\n",
       "      <th>Statistics: Adjusted Bytes</th>\n",
       "      <th>Statistics: Energy</th>\n",
       "      <th>Statistics: CO2 Grams, Grid</th>\n",
       "      <th>Statistics: CO2 Litres, Grid</th>\n",
       "      <th>Statistics: CO2 Grams, Renewable</th>\n",
       "      <th>Statistics: CO2 Litres, Renewable</th>\n",
       "      <th>Timestamp</th>\n",
       "    </tr>\n",
       "  </thead>\n",
       "  <tbody>\n",
       "    <tr>\n",
       "      <th>4302</th>\n",
       "      <td>https://tool.lu/</td>\n",
       "      <td>unknown</td>\n",
       "      <td>32122</td>\n",
       "      <td>0.99</td>\n",
       "      <td>24252.110</td>\n",
       "      <td>0.000018</td>\n",
       "      <td>0.008086</td>\n",
       "      <td>0.004498</td>\n",
       "      <td>0.007011</td>\n",
       "      <td>0.003899</td>\n",
       "      <td>1651690388</td>\n",
       "    </tr>\n",
       "    <tr>\n",
       "      <th>6221</th>\n",
       "      <td>https://www.google.lu/</td>\n",
       "      <td>True</td>\n",
       "      <td>170943</td>\n",
       "      <td>0.96</td>\n",
       "      <td>129061.965</td>\n",
       "      <td>0.000097</td>\n",
       "      <td>0.043033</td>\n",
       "      <td>0.023935</td>\n",
       "      <td>0.037309</td>\n",
       "      <td>0.020751</td>\n",
       "      <td>1651692913</td>\n",
       "    </tr>\n",
       "    <tr>\n",
       "      <th>9263</th>\n",
       "      <td>https://mjt.lu/</td>\n",
       "      <td>True</td>\n",
       "      <td>4517</td>\n",
       "      <td>1.00</td>\n",
       "      <td>3410.335</td>\n",
       "      <td>0.000003</td>\n",
       "      <td>0.001137</td>\n",
       "      <td>0.000632</td>\n",
       "      <td>0.000986</td>\n",
       "      <td>0.000548</td>\n",
       "      <td>1651752265</td>\n",
       "    </tr>\n",
       "    <tr>\n",
       "      <th>18259</th>\n",
       "      <td>https://wwwen.uni.lu/</td>\n",
       "      <td>unknown</td>\n",
       "      <td>1700191</td>\n",
       "      <td>0.55</td>\n",
       "      <td>1283644.205</td>\n",
       "      <td>0.000968</td>\n",
       "      <td>0.428008</td>\n",
       "      <td>0.238058</td>\n",
       "      <td>0.371070</td>\n",
       "      <td>0.206389</td>\n",
       "      <td>1651845822</td>\n",
       "    </tr>\n",
       "    <tr>\n",
       "      <th>18423</th>\n",
       "      <td>https://www.rtl.lu/</td>\n",
       "      <td>unknown</td>\n",
       "      <td>8703834</td>\n",
       "      <td>0.10</td>\n",
       "      <td>6571394.670</td>\n",
       "      <td>0.004957</td>\n",
       "      <td>2.191114</td>\n",
       "      <td>1.218698</td>\n",
       "      <td>1.899626</td>\n",
       "      <td>1.056572</td>\n",
       "      <td>1651846333</td>\n",
       "    </tr>\n",
       "    <tr>\n",
       "      <th>23043</th>\n",
       "      <td>https://kuku.lu/</td>\n",
       "      <td>True</td>\n",
       "      <td>34618</td>\n",
       "      <td>0.99</td>\n",
       "      <td>26136.590</td>\n",
       "      <td>0.000020</td>\n",
       "      <td>0.008715</td>\n",
       "      <td>0.004847</td>\n",
       "      <td>0.007555</td>\n",
       "      <td>0.004202</td>\n",
       "      <td>1651915962</td>\n",
       "    </tr>\n",
       "    <tr>\n",
       "      <th>29544</th>\n",
       "      <td>https://www.wort.lu/de</td>\n",
       "      <td>True</td>\n",
       "      <td>2320842</td>\n",
       "      <td>0.48</td>\n",
       "      <td>1752235.710</td>\n",
       "      <td>0.001322</td>\n",
       "      <td>0.584252</td>\n",
       "      <td>0.324961</td>\n",
       "      <td>0.506528</td>\n",
       "      <td>0.281731</td>\n",
       "      <td>1652363697</td>\n",
       "    </tr>\n",
       "    <tr>\n",
       "      <th>36109</th>\n",
       "      <td>https://gouvernement.lu/fr.html</td>\n",
       "      <td>unknown</td>\n",
       "      <td>4162878</td>\n",
       "      <td>0.24</td>\n",
       "      <td>3142972.890</td>\n",
       "      <td>0.002371</td>\n",
       "      <td>1.047968</td>\n",
       "      <td>0.582880</td>\n",
       "      <td>0.908555</td>\n",
       "      <td>0.505338</td>\n",
       "      <td>1652454576</td>\n",
       "    </tr>\n",
       "    <tr>\n",
       "      <th>38923</th>\n",
       "      <td>https://www.lessentiel.lu/fr</td>\n",
       "      <td>unknown</td>\n",
       "      <td>2148468</td>\n",
       "      <td>0.45</td>\n",
       "      <td>1622093.340</td>\n",
       "      <td>0.001224</td>\n",
       "      <td>0.540858</td>\n",
       "      <td>0.300825</td>\n",
       "      <td>0.468907</td>\n",
       "      <td>0.260806</td>\n",
       "      <td>1652533365</td>\n",
       "    </tr>\n",
       "  </tbody>\n",
       "</table>\n",
       "</div>"
      ],
      "text/plain": [
       "                                   URL Green Hosting    Bytes  Cleaner Than %  \\\n",
       "4302                  https://tool.lu/       unknown    32122            0.99   \n",
       "6221            https://www.google.lu/          True   170943            0.96   \n",
       "9263                   https://mjt.lu/          True     4517            1.00   \n",
       "18259            https://wwwen.uni.lu/       unknown  1700191            0.55   \n",
       "18423              https://www.rtl.lu/       unknown  8703834            0.10   \n",
       "23043                 https://kuku.lu/          True    34618            0.99   \n",
       "29544           https://www.wort.lu/de          True  2320842            0.48   \n",
       "36109  https://gouvernement.lu/fr.html       unknown  4162878            0.24   \n",
       "38923     https://www.lessentiel.lu/fr       unknown  2148468            0.45   \n",
       "\n",
       "       Statistics: Adjusted Bytes  Statistics: Energy  \\\n",
       "4302                    24252.110            0.000018   \n",
       "6221                   129061.965            0.000097   \n",
       "9263                     3410.335            0.000003   \n",
       "18259                 1283644.205            0.000968   \n",
       "18423                 6571394.670            0.004957   \n",
       "23043                   26136.590            0.000020   \n",
       "29544                 1752235.710            0.001322   \n",
       "36109                 3142972.890            0.002371   \n",
       "38923                 1622093.340            0.001224   \n",
       "\n",
       "       Statistics: CO2 Grams, Grid  Statistics: CO2 Litres, Grid  \\\n",
       "4302                      0.008086                      0.004498   \n",
       "6221                      0.043033                      0.023935   \n",
       "9263                      0.001137                      0.000632   \n",
       "18259                     0.428008                      0.238058   \n",
       "18423                     2.191114                      1.218698   \n",
       "23043                     0.008715                      0.004847   \n",
       "29544                     0.584252                      0.324961   \n",
       "36109                     1.047968                      0.582880   \n",
       "38923                     0.540858                      0.300825   \n",
       "\n",
       "       Statistics: CO2 Grams, Renewable  Statistics: CO2 Litres, Renewable  \\\n",
       "4302                           0.007011                           0.003899   \n",
       "6221                           0.037309                           0.020751   \n",
       "9263                           0.000986                           0.000548   \n",
       "18259                          0.371070                           0.206389   \n",
       "18423                          1.899626                           1.056572   \n",
       "23043                          0.007555                           0.004202   \n",
       "29544                          0.506528                           0.281731   \n",
       "36109                          0.908555                           0.505338   \n",
       "38923                          0.468907                           0.260806   \n",
       "\n",
       "        Timestamp  \n",
       "4302   1651690388  \n",
       "6221   1651692913  \n",
       "9263   1651752265  \n",
       "18259  1651845822  \n",
       "18423  1651846333  \n",
       "23043  1651915962  \n",
       "29544  1652363697  \n",
       "36109  1652454576  \n",
       "38923  1652533365  "
      ]
     },
     "execution_count": 59,
     "metadata": {},
     "output_type": "execute_result"
    }
   ],
   "source": [
    "lu"
   ]
  },
  {
   "cell_type": "markdown",
   "metadata": {},
   "source": [
    "### North America"
   ]
  },
  {
   "cell_type": "code",
   "execution_count": 49,
   "metadata": {},
   "outputs": [],
   "source": [
    "us = df[df['URL'].str.contains('.us/', regex = False)] # United States\n",
    "ca = df[df['URL'].str.contains('.ca/', regex = False)] # Canada\n",
    "mx = df[df['URL'].str.contains('.mx/', regex = False)] # Mexico\n",
    "bz = df[df['URL'].str.contains('.bz/', regex = False)] # Belize\n",
    "cr = df[df['URL'].str.contains('.cr/', regex = False)] # Costa Rica\n",
    "sv = df[df['URL'].str.contains('.sv/', regex = False)] # El Salvador\n",
    "gt = df[df['URL'].str.contains('.gt/', regex = False)] # Guatemala\n",
    "hn = df[df['URL'].str.contains('.hn/', regex = False)] # Honduras\n",
    "ni = df[df['URL'].str.contains('.ni/', regex = False)] # Nicaragua\n",
    "pa = df[df['URL'].str.contains('.pa/', regex = False)] # Panama"
   ]
  },
  {
   "cell_type": "markdown",
   "metadata": {},
   "source": [
    "### South America"
   ]
  },
  {
   "cell_type": "code",
   "execution_count": 50,
   "metadata": {},
   "outputs": [],
   "source": [
    "ar = df[df['URL'].str.contains('.ar/', regex = False)] # Argentina\n",
    "bo = df[df['URL'].str.contains('.bo/', regex = False)] # Bolivia\n",
    "br = df[df['URL'].str.contains('.br/', regex = False)] # Brazil\n",
    "cl = df[df['URL'].str.contains('.cl/', regex = False)] # Chile\n",
    "co = df[df['URL'].str.contains('.co/', regex = False)] # Colombia\n",
    "ec = df[df['URL'].str.contains('.ec/', regex = False)] # Ecuador\n",
    "gy = df[df['URL'].str.contains('.gy/', regex = False)] # Guyana\n",
    "pa = df[df['URL'].str.contains('.pa/', regex = False)] # Panama\n",
    "pe = df[df['URL'].str.contains('.pe/', regex = False)] # Peru\n",
    "py = df[df['URL'].str.contains('.py/', regex = False)] # Paraguay\n",
    "sr = df[df['URL'].str.contains('.sr/', regex = False)] # Suriname\n",
    "tt = df[df['URL'].str.contains('.tt/', regex = False)] # Trinidad and Tobago\n",
    "uy = df[df['URL'].str.contains('.uy/', regex = False)] # Uruguay\n",
    "ve = df[df['URL'].str.contains('.ve/', regex = False)] # Venezuela"
   ]
  },
  {
   "cell_type": "markdown",
   "metadata": {},
   "source": [
    "### Asia"
   ]
  },
  {
   "cell_type": "code",
   "execution_count": 51,
   "metadata": {},
   "outputs": [],
   "source": [
    "asia = df[df['URL'].str.contains('.asia/', regex = False)] # Asia\n",
    "ru = df[df['URL'].str.contains('.ru/', regex = False)] # Russia\n",
    "cn = df[df['URL'].str.contains('.cn/', regex = False)] # China\n",
    "jp = df[df['URL'].str.contains('.jp/', regex = False)] # Japan\n",
    "kr = df[df['URL'].str.contains('.kr/', regex = False)] # Korea\n",
    "tw = df[df['URL'].str.contains('.tw/', regex = False)] # Taiwan\n",
    "hk = df[df['URL'].str.contains('.hk/', regex = False)] # Hong Kong\n",
    "id = df[df['URL'].str.contains('.id/', regex = False)] # Indonesia\n",
    "my = df[df['URL'].str.contains('.my/', regex = False)] # Malaysia\n",
    "ph = df[df['URL'].str.contains('.ph/', regex = False)] # Philippines\n",
    "sg = df[df['URL'].str.contains('.sg/', regex = False)] # Singapore\n",
    "th = df[df['URL'].str.contains('.th/', regex = False)] # Thailand\n",
    "vn = df[df['URL'].str.contains('.vn/', regex = False)] # Vietnam\n",
    "id = df[df['URL'].str.contains('.in/', regex = False)] # India\n",
    "kp = df[df['URL'].str.contains('.kp/', regex = False)] # North Korea\n",
    "vn = df[df['URL'].str.contains('.vn/', regex = False)] # Vietnam\n",
    "af = df[df['URL'].str.contains('.af/', regex = False)] # Afghanistan\n",
    "am = df[df['URL'].str.contains('.am/', regex = False)] # Armenia\n",
    "az = df[df['URL'].str.contains('.az/', regex = False)] # Azerbaijan\n",
    "bd = df[df['URL'].str.contains('.bd/', regex = False)] # Bangladesh\n",
    "bt = df[df['URL'].str.contains('.bt/', regex = False)] # Bhutan\n",
    "bn = df[df['URL'].str.contains('.bn/', regex = False)] # Brunei\n",
    "kh = df[df['URL'].str.contains('.kh/', regex = False)] # Cambodia\n",
    "\n"
   ]
  },
  {
   "cell_type": "markdown",
   "metadata": {},
   "source": [
    "### Middle East"
   ]
  },
  {
   "cell_type": "code",
   "execution_count": 52,
   "metadata": {},
   "outputs": [],
   "source": [
    "\n",
    "ae = df[df['URL'].str.contains('.ae/', regex = False)] # United Arab Emirates\n",
    "sa = df[df['URL'].str.contains('.sa/', regex = False)] # Saudi Arabia\n",
    "bh = df[df['URL'].str.contains('.bh/', regex = False)] # Bahrain\n",
    "iq = df[df['URL'].str.contains('.iq/', regex = False)] # Iraq\n",
    "jo = df[df['URL'].str.contains('.jo/', regex = False)] # Jordan\n",
    "kw = df[df['URL'].str.contains('.kw/', regex = False)] # Kuwait\n",
    "lb = df[df['URL'].str.contains('.lb/', regex = False)] # Lebanon\n",
    "om = df[df['URL'].str.contains('.om/', regex = False)] # Oman\n",
    "qa = df[df['URL'].str.contains('.qa/', regex = False)] # Qatar\n",
    "sy = df[df['URL'].str.contains('.sy/', regex = False)] # Syria\n",
    "tr = df[df['URL'].str.contains('.tr/', regex = False)] # Turkey\n",
    "ir = df[df['URL'].str.contains('.ir/', regex = False)] # Iran\n",
    "il = df[df['URL'].str.contains('.il/', regex = False)] # Israel\n"
   ]
  },
  {
   "cell_type": "markdown",
   "metadata": {},
   "source": [
    "### Oceania"
   ]
  },
  {
   "cell_type": "code",
   "execution_count": 53,
   "metadata": {},
   "outputs": [],
   "source": [
    "au = df[df['URL'].str.contains('.au/', regex = False)]"
   ]
  },
  {
   "cell_type": "markdown",
   "metadata": {},
   "source": [
    "## Other"
   ]
  },
  {
   "cell_type": "code",
   "execution_count": 54,
   "metadata": {},
   "outputs": [],
   "source": [
    "dev = df[df['URL'].str.contains('.dev/', regex = False)]\n",
    "inc = df[df['URL'].str.contains('.inc/', regex = False)]\n",
    "biz = df[df['URL'].str.contains('.biz/', regex = False)]\n",
    "info = df[df['URL'].str.contains('.info/', regex = False)]\n",
    "live = df[df['URL'].str.contains('.live/', regex = False)]\n",
    "news = df[df['URL'].str.contains('.news/', regex = False)]"
   ]
  },
  {
   "cell_type": "code",
   "execution_count": 55,
   "metadata": {},
   "outputs": [],
   "source": [
    "# dev\n",
    "# info\n",
    "# live\n",
    "# news"
   ]
  },
  {
   "cell_type": "code",
   "execution_count": null,
   "metadata": {},
   "outputs": [],
   "source": []
  }
 ],
 "metadata": {
  "interpreter": {
   "hash": "26de051ba29f2982a8de78e945f0abaf191376122a1563185a90213a26c5da77"
  },
  "kernelspec": {
   "display_name": "Python 3.10.4 64-bit",
   "language": "python",
   "name": "python3"
  },
  "language_info": {
   "codemirror_mode": {
    "name": "ipython",
    "version": 3
   },
   "file_extension": ".py",
   "mimetype": "text/x-python",
   "name": "python",
   "nbconvert_exporter": "python",
   "pygments_lexer": "ipython3",
   "version": "3.10.4"
  },
  "orig_nbformat": 4
 },
 "nbformat": 4,
 "nbformat_minor": 2
}
