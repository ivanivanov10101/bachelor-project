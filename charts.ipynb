{
 "cells": [
  {
   "cell_type": "code",
   "execution_count": 103,
   "metadata": {},
   "outputs": [],
   "source": [
    "import pandas as pd\n",
    "import numpy as np\n",
    "import matplotlib.pyplot as plt\n",
    "import seaborn as sns\n",
    "\n",
    "# pd.set_option('display.float_format', lambda x: '%.9f' % x)"
   ]
  },
  {
   "cell_type": "code",
   "execution_count": 136,
   "metadata": {},
   "outputs": [],
   "source": [
    "df = pd.read_csv('main.csv')"
   ]
  },
  {
   "cell_type": "code",
   "execution_count": 137,
   "metadata": {},
   "outputs": [
    {
     "data": {
      "text/html": [
       "<div>\n",
       "<style scoped>\n",
       "    .dataframe tbody tr th:only-of-type {\n",
       "        vertical-align: middle;\n",
       "    }\n",
       "\n",
       "    .dataframe tbody tr th {\n",
       "        vertical-align: top;\n",
       "    }\n",
       "\n",
       "    .dataframe thead th {\n",
       "        text-align: right;\n",
       "    }\n",
       "</style>\n",
       "<table border=\"1\" class=\"dataframe\">\n",
       "  <thead>\n",
       "    <tr style=\"text-align: right;\">\n",
       "      <th></th>\n",
       "      <th>URL</th>\n",
       "      <th>Green Hosting</th>\n",
       "      <th>Bytes</th>\n",
       "      <th>Cleaner Than %</th>\n",
       "      <th>Statistics: Adjusted Bytes</th>\n",
       "      <th>Statistics: Energy</th>\n",
       "      <th>Statistics: CO2 Grams, Grid</th>\n",
       "      <th>Statistics: CO2 Litres, Grid</th>\n",
       "      <th>Statistics: CO2 Grams, Renewable</th>\n",
       "      <th>Statistics: CO2 Litres, Renewable</th>\n",
       "      <th>Timestamp</th>\n",
       "      <th>index</th>\n",
       "    </tr>\n",
       "  </thead>\n",
       "  <tbody>\n",
       "    <tr>\n",
       "      <th>0</th>\n",
       "      <td>https://www.google.com/</td>\n",
       "      <td>True</td>\n",
       "      <td>170821</td>\n",
       "      <td>96.0</td>\n",
       "      <td>1.289699e+05</td>\n",
       "      <td>0.000097</td>\n",
       "      <td>0.043003</td>\n",
       "      <td>0.023918</td>\n",
       "      <td>0.037282</td>\n",
       "      <td>0.020736</td>\n",
       "      <td>2022-05-04 15:22:06</td>\n",
       "      <td>0</td>\n",
       "    </tr>\n",
       "    <tr>\n",
       "      <th>1</th>\n",
       "      <td>https://www.youtube.com/</td>\n",
       "      <td>True</td>\n",
       "      <td>3543405</td>\n",
       "      <td>32.0</td>\n",
       "      <td>2.675271e+06</td>\n",
       "      <td>0.002018</td>\n",
       "      <td>0.892021</td>\n",
       "      <td>0.496142</td>\n",
       "      <td>0.773354</td>\n",
       "      <td>0.430140</td>\n",
       "      <td>2022-05-04 12:43:07</td>\n",
       "      <td>1</td>\n",
       "    </tr>\n",
       "    <tr>\n",
       "      <th>2</th>\n",
       "      <td>https://www.facebook.com/</td>\n",
       "      <td>True</td>\n",
       "      <td>435816</td>\n",
       "      <td>91.0</td>\n",
       "      <td>3.290411e+05</td>\n",
       "      <td>0.000248</td>\n",
       "      <td>0.109713</td>\n",
       "      <td>0.061022</td>\n",
       "      <td>0.095118</td>\n",
       "      <td>0.052904</td>\n",
       "      <td>2022-05-04 15:22:15</td>\n",
       "      <td>2</td>\n",
       "    </tr>\n",
       "    <tr>\n",
       "      <th>3</th>\n",
       "      <td>https://www.netflix.com/fr-en/</td>\n",
       "      <td>True</td>\n",
       "      <td>2004776</td>\n",
       "      <td>54.0</td>\n",
       "      <td>1.513606e+06</td>\n",
       "      <td>0.001142</td>\n",
       "      <td>0.504685</td>\n",
       "      <td>0.280706</td>\n",
       "      <td>0.437546</td>\n",
       "      <td>0.243363</td>\n",
       "      <td>2022-05-04 15:22:28</td>\n",
       "      <td>3</td>\n",
       "    </tr>\n",
       "    <tr>\n",
       "      <th>4</th>\n",
       "      <td>https://www.microsoft.com/fr-fr/</td>\n",
       "      <td>False</td>\n",
       "      <td>768548</td>\n",
       "      <td>80.0</td>\n",
       "      <td>5.802537e+05</td>\n",
       "      <td>0.000438</td>\n",
       "      <td>0.193475</td>\n",
       "      <td>0.107611</td>\n",
       "      <td>0.167737</td>\n",
       "      <td>0.093295</td>\n",
       "      <td>2022-05-04 15:22:44</td>\n",
       "      <td>4</td>\n",
       "    </tr>\n",
       "    <tr>\n",
       "      <th>...</th>\n",
       "      <td>...</td>\n",
       "      <td>...</td>\n",
       "      <td>...</td>\n",
       "      <td>...</td>\n",
       "      <td>...</td>\n",
       "      <td>...</td>\n",
       "      <td>...</td>\n",
       "      <td>...</td>\n",
       "      <td>...</td>\n",
       "      <td>...</td>\n",
       "      <td>...</td>\n",
       "      <td>...</td>\n",
       "    </tr>\n",
       "    <tr>\n",
       "      <th>45689</th>\n",
       "      <td>https://brasil.un.org/pt-br</td>\n",
       "      <td>True</td>\n",
       "      <td>4632490</td>\n",
       "      <td>25.0</td>\n",
       "      <td>3.497530e+06</td>\n",
       "      <td>0.002638</td>\n",
       "      <td>1.166189</td>\n",
       "      <td>0.648634</td>\n",
       "      <td>1.011049</td>\n",
       "      <td>0.562345</td>\n",
       "      <td>2022-05-19 12:15:38</td>\n",
       "      <td>47640</td>\n",
       "    </tr>\n",
       "    <tr>\n",
       "      <th>45690</th>\n",
       "      <td>https://www.divinedaolibrary.com/</td>\n",
       "      <td>True</td>\n",
       "      <td>766289</td>\n",
       "      <td>84.0</td>\n",
       "      <td>5.785482e+05</td>\n",
       "      <td>0.000436</td>\n",
       "      <td>0.192907</td>\n",
       "      <td>0.107295</td>\n",
       "      <td>0.167244</td>\n",
       "      <td>0.093021</td>\n",
       "      <td>2022-05-19 12:15:31</td>\n",
       "      <td>47641</td>\n",
       "    </tr>\n",
       "    <tr>\n",
       "      <th>45691</th>\n",
       "      <td>https://spec.org/</td>\n",
       "      <td>False</td>\n",
       "      <td>804503</td>\n",
       "      <td>79.0</td>\n",
       "      <td>6.073998e+05</td>\n",
       "      <td>0.000458</td>\n",
       "      <td>0.202527</td>\n",
       "      <td>0.112645</td>\n",
       "      <td>0.175584</td>\n",
       "      <td>0.097660</td>\n",
       "      <td>2022-05-19 12:15:18</td>\n",
       "      <td>47642</td>\n",
       "    </tr>\n",
       "    <tr>\n",
       "      <th>45692</th>\n",
       "      <td>https://1plus1.video/</td>\n",
       "      <td>False</td>\n",
       "      <td>14701742</td>\n",
       "      <td>4.0</td>\n",
       "      <td>1.109982e+07</td>\n",
       "      <td>0.008373</td>\n",
       "      <td>3.701035</td>\n",
       "      <td>2.058516</td>\n",
       "      <td>3.208680</td>\n",
       "      <td>1.784668</td>\n",
       "      <td>2022-05-19 12:16:22</td>\n",
       "      <td>47643</td>\n",
       "    </tr>\n",
       "    <tr>\n",
       "      <th>45693</th>\n",
       "      <td>https://wellbutrin21.us/</td>\n",
       "      <td>True</td>\n",
       "      <td>442401</td>\n",
       "      <td>91.0</td>\n",
       "      <td>3.340128e+05</td>\n",
       "      <td>0.000252</td>\n",
       "      <td>0.111371</td>\n",
       "      <td>0.061944</td>\n",
       "      <td>0.096555</td>\n",
       "      <td>0.053704</td>\n",
       "      <td>2022-05-19 12:17:42</td>\n",
       "      <td>47644</td>\n",
       "    </tr>\n",
       "  </tbody>\n",
       "</table>\n",
       "<p>45694 rows × 12 columns</p>\n",
       "</div>"
      ],
      "text/plain": [
       "                                     URL  Green Hosting     Bytes  \\\n",
       "0                https://www.google.com/           True    170821   \n",
       "1               https://www.youtube.com/           True   3543405   \n",
       "2              https://www.facebook.com/           True    435816   \n",
       "3         https://www.netflix.com/fr-en/           True   2004776   \n",
       "4       https://www.microsoft.com/fr-fr/          False    768548   \n",
       "...                                  ...            ...       ...   \n",
       "45689        https://brasil.un.org/pt-br           True   4632490   \n",
       "45690  https://www.divinedaolibrary.com/           True    766289   \n",
       "45691                  https://spec.org/          False    804503   \n",
       "45692              https://1plus1.video/          False  14701742   \n",
       "45693           https://wellbutrin21.us/           True    442401   \n",
       "\n",
       "       Cleaner Than %  Statistics: Adjusted Bytes  Statistics: Energy  \\\n",
       "0                96.0                1.289699e+05            0.000097   \n",
       "1                32.0                2.675271e+06            0.002018   \n",
       "2                91.0                3.290411e+05            0.000248   \n",
       "3                54.0                1.513606e+06            0.001142   \n",
       "4                80.0                5.802537e+05            0.000438   \n",
       "...               ...                         ...                 ...   \n",
       "45689            25.0                3.497530e+06            0.002638   \n",
       "45690            84.0                5.785482e+05            0.000436   \n",
       "45691            79.0                6.073998e+05            0.000458   \n",
       "45692             4.0                1.109982e+07            0.008373   \n",
       "45693            91.0                3.340128e+05            0.000252   \n",
       "\n",
       "       Statistics: CO2 Grams, Grid  Statistics: CO2 Litres, Grid  \\\n",
       "0                         0.043003                      0.023918   \n",
       "1                         0.892021                      0.496142   \n",
       "2                         0.109713                      0.061022   \n",
       "3                         0.504685                      0.280706   \n",
       "4                         0.193475                      0.107611   \n",
       "...                            ...                           ...   \n",
       "45689                     1.166189                      0.648634   \n",
       "45690                     0.192907                      0.107295   \n",
       "45691                     0.202527                      0.112645   \n",
       "45692                     3.701035                      2.058516   \n",
       "45693                     0.111371                      0.061944   \n",
       "\n",
       "       Statistics: CO2 Grams, Renewable  Statistics: CO2 Litres, Renewable  \\\n",
       "0                              0.037282                           0.020736   \n",
       "1                              0.773354                           0.430140   \n",
       "2                              0.095118                           0.052904   \n",
       "3                              0.437546                           0.243363   \n",
       "4                              0.167737                           0.093295   \n",
       "...                                 ...                                ...   \n",
       "45689                          1.011049                           0.562345   \n",
       "45690                          0.167244                           0.093021   \n",
       "45691                          0.175584                           0.097660   \n",
       "45692                          3.208680                           1.784668   \n",
       "45693                          0.096555                           0.053704   \n",
       "\n",
       "                 Timestamp  index  \n",
       "0      2022-05-04 15:22:06      0  \n",
       "1      2022-05-04 12:43:07      1  \n",
       "2      2022-05-04 15:22:15      2  \n",
       "3      2022-05-04 15:22:28      3  \n",
       "4      2022-05-04 15:22:44      4  \n",
       "...                    ...    ...  \n",
       "45689  2022-05-19 12:15:38  47640  \n",
       "45690  2022-05-19 12:15:31  47641  \n",
       "45691  2022-05-19 12:15:18  47642  \n",
       "45692  2022-05-19 12:16:22  47643  \n",
       "45693  2022-05-19 12:17:42  47644  \n",
       "\n",
       "[45694 rows x 12 columns]"
      ]
     },
     "execution_count": 137,
     "metadata": {},
     "output_type": "execute_result"
    }
   ],
   "source": [
    "df"
   ]
  },
  {
   "cell_type": "code",
   "execution_count": 138,
   "metadata": {},
   "outputs": [
    {
     "data": {
      "image/png": "[encoded data removed]",
      "text/plain": [
       "<Figure size 432x288 with 1 Axes>"
      ]
     },
     "metadata": {
      "needs_background": "light"
     },
     "output_type": "display_data"
    }
   ],
   "source": [
    "mean = df['Bytes'].mean()\n",
    "median = df['Bytes'].median()\n",
    "std = df['Bytes'].std()\n",
    "data = [mean, median, std]\n",
    "dfmmms = pd.DataFrame(data)\n",
    "\n",
    "ax = dfmmms.T.plot(kind='bar')\n",
    "for container in ax.containers:\n",
    "    ax.bar_label(container)\n",
    "ax.legend(['Mean', 'Median', 'Std'])\n",
    "plt.show()"
   ]
  },
  {
   "cell_type": "code",
   "execution_count": 108,
   "metadata": {},
   "outputs": [
    {
     "data": {
      "image/png": "[encoded data removed]",
      "text/plain": [
       "<Figure size 432x288 with 1 Axes>"
      ]
     },
     "metadata": {
      "needs_background": "light"
     },
     "output_type": "display_data"
    },
    {
     "data": {
      "text/plain": [
       "<Figure size 1440x1008 with 0 Axes>"
      ]
     },
     "metadata": {},
     "output_type": "display_data"
    }
   ],
   "source": [
    "plt.boxplot(df['Bytes'])\n",
    "fig = plt.figure(figsize =(20, 14))\n",
    "plt.show()"
   ]
  },
  {
   "cell_type": "code",
   "execution_count": 109,
   "metadata": {},
   "outputs": [
    {
     "data": {
      "image/png": "[encoded data removed]",
      "text/plain": [
       "<Figure size 432x288 with 1 Axes>"
      ]
     },
     "metadata": {
      "needs_background": "light"
     },
     "output_type": "display_data"
    }
   ],
   "source": [
    "import numpy as np\n",
    "import matplotlib.pyplot as plt\n",
    "import seaborn as sns\n",
    "\n",
    "x = np.random.normal(np.tile(np.random.uniform(10, 30, 5), 50), 3)\n",
    "ax = sns.kdeplot(df['Bytes'][0:100], shade=False, color='crimson')\n",
    "kdeline = ax.lines[0]\n",
    "mean = df['Bytes'].mean()\n",
    "xs = kdeline.get_xdata()\n",
    "ys = kdeline.get_ydata()\n",
    "height = np.interp(mean, xs, ys)\n",
    "ax.vlines(mean, 0, height, color='crimson', ls=':')\n",
    "ax.fill_between(xs, 0, ys, facecolor='crimson', alpha=0.2)\n",
    "plt.show()"
   ]
  },
  {
   "cell_type": "code",
   "execution_count": 110,
   "metadata": {},
   "outputs": [
    {
     "data": {
      "text/plain": [
       "[<matplotlib.lines.Line2D at 0x1ef3aa3c820>]"
      ]
     },
     "execution_count": 110,
     "metadata": {},
     "output_type": "execute_result"
    },
    {
     "data": {
      "image/png": "[encoded data removed]",
      "text/plain": [
       "<Figure size 432x288 with 1 Axes>"
      ]
     },
     "metadata": {
      "needs_background": "light"
     },
     "output_type": "display_data"
    }
   ],
   "source": [
    "bytes = df['Bytes'][0:100].sort_values()\n",
    "bytes = bytes.to_list()\n",
    "plt.plot(bytes)"
   ]
  },
  {
   "cell_type": "code",
   "execution_count": 111,
   "metadata": {},
   "outputs": [
    {
     "data": {
      "text/plain": [
       "<AxesSubplot:xlabel='Bytes', ylabel='Cleaner Than %'>"
      ]
     },
     "execution_count": 111,
     "metadata": {},
     "output_type": "execute_result"
    },
    {
     "data": {
      "image/png": "[encoded data removed]",
      "text/plain": [
       "<Figure size 432x288 with 1 Axes>"
      ]
     },
     "metadata": {
      "needs_background": "light"
     },
     "output_type": "display_data"
    }
   ],
   "source": [
    "sns.regplot(x=df[\"Bytes\"][0:100], y=df[\"Cleaner Than %\"][0:100], color='crimson')"
   ]
  },
  {
   "cell_type": "code",
   "execution_count": 112,
   "metadata": {},
   "outputs": [],
   "source": [
    "df = df.drop_duplicates(subset=['URL'], keep='first')"
   ]
  },
  {
   "cell_type": "markdown",
   "metadata": {},
   "source": [
    "# Ranges"
   ]
  },
  {
   "cell_type": "code",
   "execution_count": 113,
   "metadata": {},
   "outputs": [],
   "source": [
    "first100 = df.head(100)\n",
    "last100 = df.tail(100)"
   ]
  },
  {
   "cell_type": "code",
   "execution_count": 114,
   "metadata": {},
   "outputs": [
    {
     "data": {
      "text/plain": [
       "3800848.76"
      ]
     },
     "execution_count": 114,
     "metadata": {},
     "output_type": "execute_result"
    }
   ],
   "source": [
    "first100['Bytes'].mean()\n",
    "last100['Bytes'].mean()"
   ]
  },
  {
   "cell_type": "code",
   "execution_count": 115,
   "metadata": {},
   "outputs": [
    {
     "data": {
      "text/plain": [
       "1796334.0"
      ]
     },
     "execution_count": 115,
     "metadata": {},
     "output_type": "execute_result"
    }
   ],
   "source": [
    "first100['Bytes'].median()\n",
    "last100['Bytes'].median()"
   ]
  },
  {
   "cell_type": "code",
   "execution_count": 116,
   "metadata": {},
   "outputs": [
    {
     "data": {
      "text/plain": [
       "0.002164774629453153"
      ]
     },
     "execution_count": 116,
     "metadata": {},
     "output_type": "execute_result"
    }
   ],
   "source": [
    "first100['Statistics: Energy'].mean()\n",
    "last100['Statistics: Energy'].mean()"
   ]
  },
  {
   "cell_type": "code",
   "execution_count": 117,
   "metadata": {},
   "outputs": [
    {
     "data": {
      "text/plain": [
       "0.0010231026054358999"
      ]
     },
     "execution_count": 117,
     "metadata": {},
     "output_type": "execute_result"
    }
   ],
   "source": [
    "first100['Statistics: Energy'].median()\n",
    "last100['Statistics: Energy'].median()"
   ]
  },
  {
   "cell_type": "code",
   "execution_count": 118,
   "metadata": {},
   "outputs": [
    {
     "data": {
      "text/plain": [
       "0.9568303862183133"
      ]
     },
     "execution_count": 118,
     "metadata": {},
     "output_type": "execute_result"
    }
   ],
   "source": [
    "first100['Statistics: CO2 Grams, Grid'].mean()\n",
    "last100['Statistics: CO2 Grams, Grid'].mean()"
   ]
  },
  {
   "cell_type": "code",
   "execution_count": 119,
   "metadata": {},
   "outputs": [
    {
     "data": {
      "text/plain": [
       "0.4522113516027108"
      ]
     },
     "execution_count": 119,
     "metadata": {},
     "output_type": "execute_result"
    }
   ],
   "source": [
    "first100['Statistics: CO2 Grams, Grid'].median()\n",
    "last100['Statistics: CO2 Grams, Grid'].median()"
   ]
  },
  {
   "cell_type": "code",
   "execution_count": 120,
   "metadata": {},
   "outputs": [],
   "source": [
    "true = df[df['Green Hosting'].str.contains('True')]\n",
    "unknown = df[df['Green Hosting'].str.contains('unknown')]"
   ]
  },
  {
   "cell_type": "code",
   "execution_count": 121,
   "metadata": {},
   "outputs": [],
   "source": [
    "# Stats for True and Unknown per quartiles maybe, or for how Cleaner Than % is distributed along with the other stats.\n",
    "# Splitting the dataframe into subgroups and then generating stats for each subgroup should be the best way to do this."
   ]
  },
  {
   "cell_type": "markdown",
   "metadata": {},
   "source": [
    "# Per Top-level Domain / Site\n",
    "## Companies"
   ]
  },
  {
   "cell_type": "code",
   "execution_count": 122,
   "metadata": {},
   "outputs": [],
   "source": [
    "google = df[df['URL'].str.contains('google')]\n",
    "microsoft = df[df['URL'].str.contains('microsoft')]\n",
    "apple = df[df['URL'].str.contains('.apple.com')]\n",
    "airbnb = df[df['URL'].str.contains('airbnb')]\n",
    "netflix = df[df['URL'].str.contains('netflix')]\n",
    "marvel = df[df['URL'].str.contains('marvel')]\n",
    "nike = df[df['URL'].str.contains('nike')]\n",
    "adiddas = df[df['URL'].str.contains('adiddas')]\n",
    "gucci = df[df['URL'].str.contains('gucci')]\n",
    "ikea = df[df['URL'].str.contains('ikea')]\n",
    "lenovo = df[df['URL'].str.contains('lenovo')]\n",
    "asus = df[df['URL'].str.contains('asus')]\n",
    "huawei = df[df['URL'].str.contains('huawei')]\n",
    "disney = df[df['URL'].str.contains('disney')]\n",
    "warner = df[df['URL'].str.contains('warner')]\n",
    "canon = df[df['URL'].str.contains('canon')]\n",
    "xiaomi = df[df['URL'].str.contains('xiaomi')]\n",
    "nintendo = df[df['URL'].str.contains('nintendo')]\n",
    "playstation = df[df['URL'].str.contains('playstation')]\n",
    "xbox = df[df['URL'].str.contains('xbox')]\n",
    "sony = df[df['URL'].str.contains('sony')]\n",
    "logitech = df[df['URL'].str.contains('logitech')]\n",
    "toshiba = df[df['URL'].str.contains('toshiba')]\n",
    "bosch = df[df['URL'].str.contains('bosch')]\n",
    "philips = df[df['URL'].str.contains('philips')]\n",
    "linkedin = df[df['URL'].str.contains('linkedin')]\n",
    "uber = df[df['URL'].str.contains('uber')]"
   ]
  },
  {
   "cell_type": "code",
   "execution_count": 123,
   "metadata": {},
   "outputs": [
    {
     "data": {
      "text/html": [
       "<div>\n",
       "<style scoped>\n",
       "    .dataframe tbody tr th:only-of-type {\n",
       "        vertical-align: middle;\n",
       "    }\n",
       "\n",
       "    .dataframe tbody tr th {\n",
       "        vertical-align: top;\n",
       "    }\n",
       "\n",
       "    .dataframe thead th {\n",
       "        text-align: right;\n",
       "    }\n",
       "</style>\n",
       "<table border=\"1\" class=\"dataframe\">\n",
       "  <thead>\n",
       "    <tr style=\"text-align: right;\">\n",
       "      <th></th>\n",
       "      <th>URL</th>\n",
       "      <th>Green Hosting</th>\n",
       "      <th>Bytes</th>\n",
       "      <th>Cleaner Than %</th>\n",
       "      <th>Statistics: Adjusted Bytes</th>\n",
       "      <th>Statistics: Energy</th>\n",
       "      <th>Statistics: CO2 Grams, Grid</th>\n",
       "      <th>Statistics: CO2 Litres, Grid</th>\n",
       "      <th>Statistics: CO2 Grams, Renewable</th>\n",
       "      <th>Statistics: CO2 Litres, Renewable</th>\n",
       "      <th>Timestamp</th>\n",
       "    </tr>\n",
       "  </thead>\n",
       "  <tbody>\n",
       "    <tr>\n",
       "      <th>8</th>\n",
       "      <td>https://www.linkedin.com/</td>\n",
       "      <td>unknown</td>\n",
       "      <td>413977</td>\n",
       "      <td>0.90</td>\n",
       "      <td>312552.635</td>\n",
       "      <td>0.000236</td>\n",
       "      <td>0.104215</td>\n",
       "      <td>0.057964</td>\n",
       "      <td>0.090351</td>\n",
       "      <td>0.050253</td>\n",
       "      <td>1651677871</td>\n",
       "    </tr>\n",
       "    <tr>\n",
       "      <th>1407</th>\n",
       "      <td>https://www.linkedin.com/hp</td>\n",
       "      <td>unknown</td>\n",
       "      <td>416020</td>\n",
       "      <td>0.90</td>\n",
       "      <td>314095.100</td>\n",
       "      <td>0.000237</td>\n",
       "      <td>0.104729</td>\n",
       "      <td>0.058250</td>\n",
       "      <td>0.090797</td>\n",
       "      <td>0.050501</td>\n",
       "      <td>1651679517</td>\n",
       "    </tr>\n",
       "    <tr>\n",
       "      <th>1889</th>\n",
       "      <td>https://www.linkedin.cn/injobs/hp/</td>\n",
       "      <td>unknown</td>\n",
       "      <td>130028</td>\n",
       "      <td>0.97</td>\n",
       "      <td>98171.140</td>\n",
       "      <td>0.000074</td>\n",
       "      <td>0.032733</td>\n",
       "      <td>0.018206</td>\n",
       "      <td>0.028379</td>\n",
       "      <td>0.015784</td>\n",
       "      <td>1651685519</td>\n",
       "    </tr>\n",
       "    <tr>\n",
       "      <th>4934</th>\n",
       "      <td>https://www.linkedin.com/learning/?trk=lynda_r...</td>\n",
       "      <td>unknown</td>\n",
       "      <td>2485676</td>\n",
       "      <td>0.40</td>\n",
       "      <td>1876685.380</td>\n",
       "      <td>0.001416</td>\n",
       "      <td>0.625747</td>\n",
       "      <td>0.348041</td>\n",
       "      <td>0.542503</td>\n",
       "      <td>0.301740</td>\n",
       "      <td>1651691409</td>\n",
       "    </tr>\n",
       "  </tbody>\n",
       "</table>\n",
       "</div>"
      ],
      "text/plain": [
       "                                                    URL Green Hosting  \\\n",
       "8                             https://www.linkedin.com/       unknown   \n",
       "1407                        https://www.linkedin.com/hp       unknown   \n",
       "1889                 https://www.linkedin.cn/injobs/hp/       unknown   \n",
       "4934  https://www.linkedin.com/learning/?trk=lynda_r...       unknown   \n",
       "\n",
       "        Bytes  Cleaner Than %  Statistics: Adjusted Bytes  Statistics: Energy  \\\n",
       "8      413977            0.90                  312552.635            0.000236   \n",
       "1407   416020            0.90                  314095.100            0.000237   \n",
       "1889   130028            0.97                   98171.140            0.000074   \n",
       "4934  2485676            0.40                 1876685.380            0.001416   \n",
       "\n",
       "      Statistics: CO2 Grams, Grid  Statistics: CO2 Litres, Grid  \\\n",
       "8                        0.104215                      0.057964   \n",
       "1407                     0.104729                      0.058250   \n",
       "1889                     0.032733                      0.018206   \n",
       "4934                     0.625747                      0.348041   \n",
       "\n",
       "      Statistics: CO2 Grams, Renewable  Statistics: CO2 Litres, Renewable  \\\n",
       "8                             0.090351                           0.050253   \n",
       "1407                          0.090797                           0.050501   \n",
       "1889                          0.028379                           0.015784   \n",
       "4934                          0.542503                           0.301740   \n",
       "\n",
       "       Timestamp  \n",
       "8     1651677871  \n",
       "1407  1651679517  \n",
       "1889  1651685519  \n",
       "4934  1651691409  "
      ]
     },
     "execution_count": 123,
     "metadata": {},
     "output_type": "execute_result"
    }
   ],
   "source": [
    "google\n",
    "microsoft\n",
    "apple\n",
    "airbnb\n",
    "linkedin"
   ]
  },
  {
   "cell_type": "markdown",
   "metadata": {},
   "source": [
    "# Regional\n",
    "## Original"
   ]
  },
  {
   "cell_type": "code",
   "execution_count": 124,
   "metadata": {},
   "outputs": [],
   "source": [
    "com = df[df['URL'].str.contains('.com/', regex = False)]\n",
    "gov = df[df['URL'].str.contains('.gov/', regex = False)]\n",
    "org = df[df['URL'].str.contains('.org/', regex = False)]\n",
    "net = df[df['URL'].str.contains('.net/', regex = False)]\n",
    "edu = df[df['URL'].str.contains('.edu/', regex = False)]\n",
    "int = df[df['URL'].str.contains('.int/', regex = False)]\n",
    "mil = df[df['URL'].str.contains('.mil/', regex = False)]\n",
    "app = df[df['URL'].str.contains('.app/', regex = False)]"
   ]
  },
  {
   "cell_type": "code",
   "execution_count": 125,
   "metadata": {},
   "outputs": [],
   "source": [
    "# com\n",
    "# couk\n",
    "# gov\n",
    "# bg\n",
    "# app"
   ]
  },
  {
   "cell_type": "markdown",
   "metadata": {},
   "source": [
    "## Most Popular"
   ]
  },
  {
   "cell_type": "code",
   "execution_count": 126,
   "metadata": {},
   "outputs": [],
   "source": [
    "com = df[df['URL'].str.contains('.com/', regex = False)]\n",
    "# Finish per link https://www.statista.com/statistics/265677/number-of-internet-top-level-domains-worldwide/"
   ]
  },
  {
   "cell_type": "markdown",
   "metadata": {},
   "source": [
    "## Per Continent / Country\n",
    "### EU + UK"
   ]
  },
  {
   "cell_type": "code",
   "execution_count": 127,
   "metadata": {},
   "outputs": [],
   "source": [
    "eu = df[df['URL'].str.contains('.eu/', regex = False)] # EU\n",
    "at = df[df['URL'].str.contains('.at/', regex = False)] # Austria\n",
    "be = df[df['URL'].str.contains('.be/', regex = False)] # Belgium\n",
    "bg = df[df['URL'].str.contains('.bg/', regex = False)] # Bulgaria\n",
    "by = df[df['URL'].str.contains('.by/', regex = False)] # Belarus\n",
    "hr = df[df['URL'].str.contains('.hr/', regex = False)] # Croatia\n",
    "cz = df[df['URL'].str.contains('.cz/', regex = False)] # Czech Republic\n",
    "de = df[df['URL'].str.contains('.de/', regex = False)] # Germany\n",
    "dk = df[df['URL'].str.contains('.dk/', regex = False)] # Denmark\n",
    "ee = df[df['URL'].str.contains('.ee/', regex = False)] # Estonia\n",
    "es = df[df['URL'].str.contains('.es/', regex = False)] # Spain\n",
    "fi = df[df['URL'].str.contains('.fi/', regex = False)] # Finland\n",
    "fr = df[df['URL'].str.contains('.fr/', regex = False)] # France\n",
    "gr = df[df['URL'].str.contains('.gr/', regex = False)] # Greece\n",
    "hu = df[df['URL'].str.contains('.hu/', regex = False)] # Hungary\n",
    "ie = df[df['URL'].str.contains('.ie/', regex = False)] # Ireland\n",
    "it = df[df['URL'].str.contains('.it/', regex = False)] # Italy\n",
    "lv = df[df['URL'].str.contains('.lv/', regex = False)] # Latvia\n",
    "lt = df[df['URL'].str.contains('.lt/', regex = False)] # Lithuania\n",
    "lu = df[df['URL'].str.contains('.lu/', regex = False)] # Luxembourg\n",
    "mt = df[df['URL'].str.contains('.mt/', regex = False)] # Malta\n",
    "uk = df[df['URL'].str.contains('.uk/', regex = False)] # United Kingdom\n",
    "gb = df[df['URL'].str.contains('.gb/', regex = False)] # Great Britain\n",
    "nl = df[df['URL'].str.contains('.nl/', regex = False)] # Netherlands\n",
    "pl = df[df['URL'].str.contains('.pl/', regex = False)] # Poland\n",
    "pt = df[df['URL'].str.contains('.pt/', regex = False)] # Portugal\n",
    "ro = df[df['URL'].str.contains('.ro/', regex = False)] # Romania\n",
    "sk = df[df['URL'].str.contains('.sk/', regex = False)] # Slovakia\n",
    "si = df[df['URL'].str.contains('.si/', regex = False)] # Slovenia\n",
    "se = df[df['URL'].str.contains('.se/', regex = False)] # Sweden"
   ]
  },
  {
   "cell_type": "code",
   "execution_count": 128,
   "metadata": {},
   "outputs": [
    {
     "data": {
      "text/html": [
       "<div>\n",
       "<style scoped>\n",
       "    .dataframe tbody tr th:only-of-type {\n",
       "        vertical-align: middle;\n",
       "    }\n",
       "\n",
       "    .dataframe tbody tr th {\n",
       "        vertical-align: top;\n",
       "    }\n",
       "\n",
       "    .dataframe thead th {\n",
       "        text-align: right;\n",
       "    }\n",
       "</style>\n",
       "<table border=\"1\" class=\"dataframe\">\n",
       "  <thead>\n",
       "    <tr style=\"text-align: right;\">\n",
       "      <th></th>\n",
       "      <th>URL</th>\n",
       "      <th>Green Hosting</th>\n",
       "      <th>Bytes</th>\n",
       "      <th>Cleaner Than %</th>\n",
       "      <th>Statistics: Adjusted Bytes</th>\n",
       "      <th>Statistics: Energy</th>\n",
       "      <th>Statistics: CO2 Grams, Grid</th>\n",
       "      <th>Statistics: CO2 Litres, Grid</th>\n",
       "      <th>Statistics: CO2 Grams, Renewable</th>\n",
       "      <th>Statistics: CO2 Litres, Renewable</th>\n",
       "      <th>Timestamp</th>\n",
       "    </tr>\n",
       "  </thead>\n",
       "  <tbody>\n",
       "    <tr>\n",
       "      <th>4302</th>\n",
       "      <td>https://tool.lu/</td>\n",
       "      <td>unknown</td>\n",
       "      <td>32122</td>\n",
       "      <td>0.99</td>\n",
       "      <td>24252.110</td>\n",
       "      <td>0.000018</td>\n",
       "      <td>0.008086</td>\n",
       "      <td>0.004498</td>\n",
       "      <td>0.007011</td>\n",
       "      <td>0.003899</td>\n",
       "      <td>1651690388</td>\n",
       "    </tr>\n",
       "    <tr>\n",
       "      <th>6221</th>\n",
       "      <td>https://www.google.lu/</td>\n",
       "      <td>True</td>\n",
       "      <td>170943</td>\n",
       "      <td>0.96</td>\n",
       "      <td>129061.965</td>\n",
       "      <td>0.000097</td>\n",
       "      <td>0.043033</td>\n",
       "      <td>0.023935</td>\n",
       "      <td>0.037309</td>\n",
       "      <td>0.020751</td>\n",
       "      <td>1651692913</td>\n",
       "    </tr>\n",
       "    <tr>\n",
       "      <th>9263</th>\n",
       "      <td>https://mjt.lu/</td>\n",
       "      <td>True</td>\n",
       "      <td>4517</td>\n",
       "      <td>1.00</td>\n",
       "      <td>3410.335</td>\n",
       "      <td>0.000003</td>\n",
       "      <td>0.001137</td>\n",
       "      <td>0.000632</td>\n",
       "      <td>0.000986</td>\n",
       "      <td>0.000548</td>\n",
       "      <td>1651752265</td>\n",
       "    </tr>\n",
       "    <tr>\n",
       "      <th>18259</th>\n",
       "      <td>https://wwwen.uni.lu/</td>\n",
       "      <td>unknown</td>\n",
       "      <td>1700191</td>\n",
       "      <td>0.55</td>\n",
       "      <td>1283644.205</td>\n",
       "      <td>0.000968</td>\n",
       "      <td>0.428008</td>\n",
       "      <td>0.238058</td>\n",
       "      <td>0.371070</td>\n",
       "      <td>0.206389</td>\n",
       "      <td>1651845822</td>\n",
       "    </tr>\n",
       "    <tr>\n",
       "      <th>18423</th>\n",
       "      <td>https://www.rtl.lu/</td>\n",
       "      <td>unknown</td>\n",
       "      <td>8703834</td>\n",
       "      <td>0.10</td>\n",
       "      <td>6571394.670</td>\n",
       "      <td>0.004957</td>\n",
       "      <td>2.191114</td>\n",
       "      <td>1.218698</td>\n",
       "      <td>1.899626</td>\n",
       "      <td>1.056572</td>\n",
       "      <td>1651846333</td>\n",
       "    </tr>\n",
       "    <tr>\n",
       "      <th>23043</th>\n",
       "      <td>https://kuku.lu/</td>\n",
       "      <td>True</td>\n",
       "      <td>34618</td>\n",
       "      <td>0.99</td>\n",
       "      <td>26136.590</td>\n",
       "      <td>0.000020</td>\n",
       "      <td>0.008715</td>\n",
       "      <td>0.004847</td>\n",
       "      <td>0.007555</td>\n",
       "      <td>0.004202</td>\n",
       "      <td>1651915962</td>\n",
       "    </tr>\n",
       "    <tr>\n",
       "      <th>29544</th>\n",
       "      <td>https://www.wort.lu/de</td>\n",
       "      <td>True</td>\n",
       "      <td>2320842</td>\n",
       "      <td>0.48</td>\n",
       "      <td>1752235.710</td>\n",
       "      <td>0.001322</td>\n",
       "      <td>0.584252</td>\n",
       "      <td>0.324961</td>\n",
       "      <td>0.506528</td>\n",
       "      <td>0.281731</td>\n",
       "      <td>1652363697</td>\n",
       "    </tr>\n",
       "    <tr>\n",
       "      <th>36109</th>\n",
       "      <td>https://gouvernement.lu/fr.html</td>\n",
       "      <td>unknown</td>\n",
       "      <td>4162878</td>\n",
       "      <td>0.24</td>\n",
       "      <td>3142972.890</td>\n",
       "      <td>0.002371</td>\n",
       "      <td>1.047968</td>\n",
       "      <td>0.582880</td>\n",
       "      <td>0.908555</td>\n",
       "      <td>0.505338</td>\n",
       "      <td>1652454576</td>\n",
       "    </tr>\n",
       "    <tr>\n",
       "      <th>38923</th>\n",
       "      <td>https://www.lessentiel.lu/fr</td>\n",
       "      <td>unknown</td>\n",
       "      <td>2148468</td>\n",
       "      <td>0.45</td>\n",
       "      <td>1622093.340</td>\n",
       "      <td>0.001224</td>\n",
       "      <td>0.540858</td>\n",
       "      <td>0.300825</td>\n",
       "      <td>0.468907</td>\n",
       "      <td>0.260806</td>\n",
       "      <td>1652533365</td>\n",
       "    </tr>\n",
       "  </tbody>\n",
       "</table>\n",
       "</div>"
      ],
      "text/plain": [
       "                                   URL Green Hosting    Bytes  Cleaner Than %  \\\n",
       "4302                  https://tool.lu/       unknown    32122            0.99   \n",
       "6221            https://www.google.lu/          True   170943            0.96   \n",
       "9263                   https://mjt.lu/          True     4517            1.00   \n",
       "18259            https://wwwen.uni.lu/       unknown  1700191            0.55   \n",
       "18423              https://www.rtl.lu/       unknown  8703834            0.10   \n",
       "23043                 https://kuku.lu/          True    34618            0.99   \n",
       "29544           https://www.wort.lu/de          True  2320842            0.48   \n",
       "36109  https://gouvernement.lu/fr.html       unknown  4162878            0.24   \n",
       "38923     https://www.lessentiel.lu/fr       unknown  2148468            0.45   \n",
       "\n",
       "       Statistics: Adjusted Bytes  Statistics: Energy  \\\n",
       "4302                    24252.110            0.000018   \n",
       "6221                   129061.965            0.000097   \n",
       "9263                     3410.335            0.000003   \n",
       "18259                 1283644.205            0.000968   \n",
       "18423                 6571394.670            0.004957   \n",
       "23043                   26136.590            0.000020   \n",
       "29544                 1752235.710            0.001322   \n",
       "36109                 3142972.890            0.002371   \n",
       "38923                 1622093.340            0.001224   \n",
       "\n",
       "       Statistics: CO2 Grams, Grid  Statistics: CO2 Litres, Grid  \\\n",
       "4302                      0.008086                      0.004498   \n",
       "6221                      0.043033                      0.023935   \n",
       "9263                      0.001137                      0.000632   \n",
       "18259                     0.428008                      0.238058   \n",
       "18423                     2.191114                      1.218698   \n",
       "23043                     0.008715                      0.004847   \n",
       "29544                     0.584252                      0.324961   \n",
       "36109                     1.047968                      0.582880   \n",
       "38923                     0.540858                      0.300825   \n",
       "\n",
       "       Statistics: CO2 Grams, Renewable  Statistics: CO2 Litres, Renewable  \\\n",
       "4302                           0.007011                           0.003899   \n",
       "6221                           0.037309                           0.020751   \n",
       "9263                           0.000986                           0.000548   \n",
       "18259                          0.371070                           0.206389   \n",
       "18423                          1.899626                           1.056572   \n",
       "23043                          0.007555                           0.004202   \n",
       "29544                          0.506528                           0.281731   \n",
       "36109                          0.908555                           0.505338   \n",
       "38923                          0.468907                           0.260806   \n",
       "\n",
       "        Timestamp  \n",
       "4302   1651690388  \n",
       "6221   1651692913  \n",
       "9263   1651752265  \n",
       "18259  1651845822  \n",
       "18423  1651846333  \n",
       "23043  1651915962  \n",
       "29544  1652363697  \n",
       "36109  1652454576  \n",
       "38923  1652533365  "
      ]
     },
     "execution_count": 128,
     "metadata": {},
     "output_type": "execute_result"
    }
   ],
   "source": [
    "lu"
   ]
  },
  {
   "cell_type": "markdown",
   "metadata": {},
   "source": [
    "### North America"
   ]
  },
  {
   "cell_type": "code",
   "execution_count": 129,
   "metadata": {},
   "outputs": [],
   "source": [
    "us = df[df['URL'].str.contains('.us/', regex = False)] # United States\n",
    "ca = df[df['URL'].str.contains('.ca/', regex = False)] # Canada\n",
    "mx = df[df['URL'].str.contains('.mx/', regex = False)] # Mexico\n",
    "bz = df[df['URL'].str.contains('.bz/', regex = False)] # Belize\n",
    "cr = df[df['URL'].str.contains('.cr/', regex = False)] # Costa Rica\n",
    "sv = df[df['URL'].str.contains('.sv/', regex = False)] # El Salvador\n",
    "gt = df[df['URL'].str.contains('.gt/', regex = False)] # Guatemala\n",
    "hn = df[df['URL'].str.contains('.hn/', regex = False)] # Honduras\n",
    "ni = df[df['URL'].str.contains('.ni/', regex = False)] # Nicaragua\n",
    "pa = df[df['URL'].str.contains('.pa/', regex = False)] # Panama"
   ]
  },
  {
   "cell_type": "markdown",
   "metadata": {},
   "source": [
    "### South America"
   ]
  },
  {
   "cell_type": "code",
   "execution_count": 130,
   "metadata": {},
   "outputs": [],
   "source": [
    "ar = df[df['URL'].str.contains('.ar/', regex = False)] # Argentina\n",
    "bo = df[df['URL'].str.contains('.bo/', regex = False)] # Bolivia\n",
    "br = df[df['URL'].str.contains('.br/', regex = False)] # Brazil\n",
    "cl = df[df['URL'].str.contains('.cl/', regex = False)] # Chile\n",
    "co = df[df['URL'].str.contains('.co/', regex = False)] # Colombia\n",
    "ec = df[df['URL'].str.contains('.ec/', regex = False)] # Ecuador\n",
    "gy = df[df['URL'].str.contains('.gy/', regex = False)] # Guyana\n",
    "pa = df[df['URL'].str.contains('.pa/', regex = False)] # Panama\n",
    "pe = df[df['URL'].str.contains('.pe/', regex = False)] # Peru\n",
    "py = df[df['URL'].str.contains('.py/', regex = False)] # Paraguay\n",
    "sr = df[df['URL'].str.contains('.sr/', regex = False)] # Suriname\n",
    "tt = df[df['URL'].str.contains('.tt/', regex = False)] # Trinidad and Tobago\n",
    "uy = df[df['URL'].str.contains('.uy/', regex = False)] # Uruguay\n",
    "ve = df[df['URL'].str.contains('.ve/', regex = False)] # Venezuela"
   ]
  },
  {
   "cell_type": "markdown",
   "metadata": {},
   "source": [
    "### Asia"
   ]
  },
  {
   "cell_type": "code",
   "execution_count": 131,
   "metadata": {},
   "outputs": [],
   "source": [
    "asia = df[df['URL'].str.contains('.asia/', regex = False)] # Asia\n",
    "ru = df[df['URL'].str.contains('.ru/', regex = False)] # Russia\n",
    "cn = df[df['URL'].str.contains('.cn/', regex = False)] # China\n",
    "jp = df[df['URL'].str.contains('.jp/', regex = False)] # Japan\n",
    "kr = df[df['URL'].str.contains('.kr/', regex = False)] # Korea\n",
    "tw = df[df['URL'].str.contains('.tw/', regex = False)] # Taiwan\n",
    "hk = df[df['URL'].str.contains('.hk/', regex = False)] # Hong Kong\n",
    "id = df[df['URL'].str.contains('.id/', regex = False)] # Indonesia\n",
    "my = df[df['URL'].str.contains('.my/', regex = False)] # Malaysia\n",
    "ph = df[df['URL'].str.contains('.ph/', regex = False)] # Philippines\n",
    "sg = df[df['URL'].str.contains('.sg/', regex = False)] # Singapore\n",
    "th = df[df['URL'].str.contains('.th/', regex = False)] # Thailand\n",
    "vn = df[df['URL'].str.contains('.vn/', regex = False)] # Vietnam\n",
    "id = df[df['URL'].str.contains('.in/', regex = False)] # India\n",
    "kp = df[df['URL'].str.contains('.kp/', regex = False)] # North Korea\n",
    "vn = df[df['URL'].str.contains('.vn/', regex = False)] # Vietnam\n",
    "af = df[df['URL'].str.contains('.af/', regex = False)] # Afghanistan\n",
    "am = df[df['URL'].str.contains('.am/', regex = False)] # Armenia\n",
    "az = df[df['URL'].str.contains('.az/', regex = False)] # Azerbaijan\n",
    "bd = df[df['URL'].str.contains('.bd/', regex = False)] # Bangladesh\n",
    "bt = df[df['URL'].str.contains('.bt/', regex = False)] # Bhutan\n",
    "bn = df[df['URL'].str.contains('.bn/', regex = False)] # Brunei\n",
    "kh = df[df['URL'].str.contains('.kh/', regex = False)] # Cambodia\n",
    "\n"
   ]
  },
  {
   "cell_type": "markdown",
   "metadata": {},
   "source": [
    "### Middle East"
   ]
  },
  {
   "cell_type": "code",
   "execution_count": 132,
   "metadata": {},
   "outputs": [],
   "source": [
    "\n",
    "ae = df[df['URL'].str.contains('.ae/', regex = False)] # United Arab Emirates\n",
    "sa = df[df['URL'].str.contains('.sa/', regex = False)] # Saudi Arabia\n",
    "bh = df[df['URL'].str.contains('.bh/', regex = False)] # Bahrain\n",
    "iq = df[df['URL'].str.contains('.iq/', regex = False)] # Iraq\n",
    "jo = df[df['URL'].str.contains('.jo/', regex = False)] # Jordan\n",
    "kw = df[df['URL'].str.contains('.kw/', regex = False)] # Kuwait\n",
    "lb = df[df['URL'].str.contains('.lb/', regex = False)] # Lebanon\n",
    "om = df[df['URL'].str.contains('.om/', regex = False)] # Oman\n",
    "qa = df[df['URL'].str.contains('.qa/', regex = False)] # Qatar\n",
    "sy = df[df['URL'].str.contains('.sy/', regex = False)] # Syria\n",
    "tr = df[df['URL'].str.contains('.tr/', regex = False)] # Turkey\n",
    "ir = df[df['URL'].str.contains('.ir/', regex = False)] # Iran\n",
    "il = df[df['URL'].str.contains('.il/', regex = False)] # Israel\n"
   ]
  },
  {
   "cell_type": "markdown",
   "metadata": {},
   "source": [
    "### Oceania"
   ]
  },
  {
   "cell_type": "code",
   "execution_count": 133,
   "metadata": {},
   "outputs": [],
   "source": [
    "au = df[df['URL'].str.contains('.au/', regex = False)]"
   ]
  },
  {
   "cell_type": "markdown",
   "metadata": {},
   "source": [
    "## Other"
   ]
  },
  {
   "cell_type": "code",
   "execution_count": 134,
   "metadata": {},
   "outputs": [],
   "source": [
    "dev = df[df['URL'].str.contains('.dev/', regex = False)]\n",
    "inc = df[df['URL'].str.contains('.inc/', regex = False)]\n",
    "biz = df[df['URL'].str.contains('.biz/', regex = False)]\n",
    "info = df[df['URL'].str.contains('.info/', regex = False)]\n",
    "live = df[df['URL'].str.contains('.live/', regex = False)]\n",
    "news = df[df['URL'].str.contains('.news/', regex = False)]"
   ]
  },
  {
   "cell_type": "code",
   "execution_count": 135,
   "metadata": {},
   "outputs": [],
   "source": [
    "# dev\n",
    "# info\n",
    "# live\n",
    "# news"
   ]
  },
  {
   "cell_type": "code",
   "execution_count": null,
   "metadata": {},
   "outputs": [],
   "source": []
  }
 ],
 "metadata": {
  "interpreter": {
   "hash": "26de051ba29f2982a8de78e945f0abaf191376122a1563185a90213a26c5da77"
  },
  "kernelspec": {
   "display_name": "Python 3.10.4 64-bit",
   "language": "python",
   "name": "python3"
  },
  "language_info": {
   "codemirror_mode": {
    "name": "ipython",
    "version": 3
   },
   "file_extension": ".py",
   "mimetype": "text/x-python",
   "name": "python",
   "nbconvert_exporter": "python",
   "pygments_lexer": "ipython3",
   "version": "3.10.4"
  },
  "orig_nbformat": 4
 },
 "nbformat": 4,
 "nbformat_minor": 2
}
