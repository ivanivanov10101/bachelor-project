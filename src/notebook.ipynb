{
 "cells": [
  {
   "cell_type": "markdown",
   "id": "58fd7d70",
   "metadata": {},
   "source": [
    "# Imports & Merging"
   ]
  },
  {
   "cell_type": "code",
   "execution_count": 87,
   "id": "62bfc239",
   "metadata": {},
   "outputs": [],
   "source": [
    "import pandas as pd\n",
    "import numpy as np\n",
    "import matplotlib.pyplot as plt\n",
    "import seaborn as sns\n",
    "from pathlib import Path\n",
    "from tld import get_tld\n",
    "import warnings\n",
    "import re\n",
    "import os"
   ]
  },
  {
   "cell_type": "code",
   "execution_count": 8,
   "id": "73fc0397",
   "metadata": {},
   "outputs": [],
   "source": [
    "# Counts the number of available websites in the dataset, before cleanup.\n",
    "path = 'data\\csv\\\\'\n",
    "files = [file for file in os.listdir(path) if file.endswith(\".csv\")]\n",
    "\n",
    "output = pd.Series(name=\"Rows\", dtype=int)\n",
    "for file in files:\n",
    "    df = pd.read_csv(os.path.join(path, file))\n",
    "    output.at[file.replace(\".csv\", \"\")] = df.shape[0]\n",
    "output.at[\"Total\"] = output.sum()"
   ]
  },
  {
   "cell_type": "code",
   "execution_count": 9,
   "id": "d55c1a42",
   "metadata": {},
   "outputs": [
    {
     "data": {
      "text/plain": [
       "database0-500            436\n",
       "database1000-2000        865\n",
       "database10000-10200      147\n",
       "database10200-10300       84\n",
       "database10300-10400       81\n",
       "                       ...  \n",
       "database9600-9700         82\n",
       "database9700-9800         81\n",
       "database9800-9900         80\n",
       "database9900-10000        77\n",
       "Total                  52422\n",
       "Name: Rows, Length: 359, dtype: int64"
      ]
     },
     "execution_count": 9,
     "metadata": {},
     "output_type": "execute_result"
    }
   ],
   "source": [
    "output"
   ]
  },
  {
   "cell_type": "code",
   "execution_count": 55,
   "id": "771434c3",
   "metadata": {},
   "outputs": [],
   "source": [
    "# Combines all csv files in data\\csv\\ into one dataframe.\n",
    "warnings.filterwarnings('ignore') # to ignore a useless deprecated method warning\n",
    "result = Path('data\\csv\\\\').glob('*.csv')\n",
    "csvfiles = sorted(result, key = lambda x: [int(k) if k.isdigit() else k for k in re.split('([0-9]+)', x.stem)])\n",
    "\n",
    "df = pd.DataFrame()\n",
    "for files in csvfiles:\n",
    "    df = df.append(pd.read_csv(files))\n",
    "df.to_csv('data\\datasets\\main.csv')"
   ]
  },
  {
   "cell_type": "code",
   "execution_count": 56,
   "id": "84027eee",
   "metadata": {},
   "outputs": [
    {
     "data": {
      "text/html": [
       "<div>\n",
       "<style scoped>\n",
       "    .dataframe tbody tr th:only-of-type {\n",
       "        vertical-align: middle;\n",
       "    }\n",
       "\n",
       "    .dataframe tbody tr th {\n",
       "        vertical-align: top;\n",
       "    }\n",
       "\n",
       "    .dataframe thead th {\n",
       "        text-align: right;\n",
       "    }\n",
       "</style>\n",
       "<table border=\"1\" class=\"dataframe\">\n",
       "  <thead>\n",
       "    <tr style=\"text-align: right;\">\n",
       "      <th></th>\n",
       "      <th>URL</th>\n",
       "      <th>Green Hosting</th>\n",
       "      <th>Bytes</th>\n",
       "      <th>Cleaner Than %</th>\n",
       "      <th>Stats_Adjusted Bytes</th>\n",
       "      <th>Stats_Energy</th>\n",
       "      <th>Stats_CO2_Grid_Grams</th>\n",
       "      <th>Stats_CO2_Grid_Litres</th>\n",
       "      <th>Stats_CO2_Renewable_Grams</th>\n",
       "      <th>Stats_CO2_Renewable_Litres</th>\n",
       "    </tr>\n",
       "  </thead>\n",
       "  <tbody>\n",
       "    <tr>\n",
       "      <th>https://www.google.com/</th>\n",
       "      <td>True</td>\n",
       "      <td>170821</td>\n",
       "      <td>0.96</td>\n",
       "      <td>1.289699e+05</td>\n",
       "      <td>0.000097</td>\n",
       "      <td>0.043003</td>\n",
       "      <td>0.023918</td>\n",
       "      <td>0.037282</td>\n",
       "      <td>0.020736</td>\n",
       "      <td>1651677726</td>\n",
       "    </tr>\n",
       "    <tr>\n",
       "      <th>https://www.youtube.com/</th>\n",
       "      <td>True</td>\n",
       "      <td>3543405</td>\n",
       "      <td>0.32</td>\n",
       "      <td>2.675271e+06</td>\n",
       "      <td>0.002018</td>\n",
       "      <td>0.892021</td>\n",
       "      <td>0.496142</td>\n",
       "      <td>0.773354</td>\n",
       "      <td>0.430140</td>\n",
       "      <td>1651668187</td>\n",
       "    </tr>\n",
       "    <tr>\n",
       "      <th>https://www.facebook.com/</th>\n",
       "      <td>True</td>\n",
       "      <td>435816</td>\n",
       "      <td>0.91</td>\n",
       "      <td>3.290411e+05</td>\n",
       "      <td>0.000248</td>\n",
       "      <td>0.109713</td>\n",
       "      <td>0.061022</td>\n",
       "      <td>0.095118</td>\n",
       "      <td>0.052904</td>\n",
       "      <td>1651677735</td>\n",
       "    </tr>\n",
       "    <tr>\n",
       "      <th>https://www.netflix.com/fr-en/</th>\n",
       "      <td>True</td>\n",
       "      <td>2004776</td>\n",
       "      <td>0.54</td>\n",
       "      <td>1.513606e+06</td>\n",
       "      <td>0.001142</td>\n",
       "      <td>0.504685</td>\n",
       "      <td>0.280706</td>\n",
       "      <td>0.437546</td>\n",
       "      <td>0.243363</td>\n",
       "      <td>1651677748</td>\n",
       "    </tr>\n",
       "    <tr>\n",
       "      <th>https://www.microsoft.com/fr-fr/</th>\n",
       "      <td>unknown</td>\n",
       "      <td>768548</td>\n",
       "      <td>0.80</td>\n",
       "      <td>5.802537e+05</td>\n",
       "      <td>0.000438</td>\n",
       "      <td>0.193475</td>\n",
       "      <td>0.107611</td>\n",
       "      <td>0.167737</td>\n",
       "      <td>0.093295</td>\n",
       "      <td>1651677764</td>\n",
       "    </tr>\n",
       "    <tr>\n",
       "      <th>...</th>\n",
       "      <td>...</td>\n",
       "      <td>...</td>\n",
       "      <td>...</td>\n",
       "      <td>...</td>\n",
       "      <td>...</td>\n",
       "      <td>...</td>\n",
       "      <td>...</td>\n",
       "      <td>...</td>\n",
       "      <td>...</td>\n",
       "      <td>...</td>\n",
       "    </tr>\n",
       "    <tr>\n",
       "      <th>https://genericsildenafil.online/</th>\n",
       "      <td>True</td>\n",
       "      <td>35581</td>\n",
       "      <td>0.99</td>\n",
       "      <td>2.686365e+04</td>\n",
       "      <td>0.000020</td>\n",
       "      <td>0.008957</td>\n",
       "      <td>0.004982</td>\n",
       "      <td>0.007766</td>\n",
       "      <td>0.004319</td>\n",
       "      <td>1653145171</td>\n",
       "    </tr>\n",
       "    <tr>\n",
       "      <th>https://www.myamcat.com/</th>\n",
       "      <td>unknown</td>\n",
       "      <td>37919212</td>\n",
       "      <td>0.01</td>\n",
       "      <td>2.862901e+07</td>\n",
       "      <td>0.021597</td>\n",
       "      <td>9.545830</td>\n",
       "      <td>5.309390</td>\n",
       "      <td>8.275932</td>\n",
       "      <td>4.603073</td>\n",
       "      <td>1653145180</td>\n",
       "    </tr>\n",
       "    <tr>\n",
       "      <th>https://nobaproject.com/</th>\n",
       "      <td>True</td>\n",
       "      <td>1859882</td>\n",
       "      <td>0.57</td>\n",
       "      <td>1.404211e+06</td>\n",
       "      <td>0.001059</td>\n",
       "      <td>0.468209</td>\n",
       "      <td>0.260418</td>\n",
       "      <td>0.405922</td>\n",
       "      <td>0.225774</td>\n",
       "      <td>1653145161</td>\n",
       "    </tr>\n",
       "    <tr>\n",
       "      <th>https://govst.edu/</th>\n",
       "      <td>unknown</td>\n",
       "      <td>19112240</td>\n",
       "      <td>0.03</td>\n",
       "      <td>1.442974e+07</td>\n",
       "      <td>0.010885</td>\n",
       "      <td>4.811339</td>\n",
       "      <td>2.676067</td>\n",
       "      <td>4.171279</td>\n",
       "      <td>2.320065</td>\n",
       "      <td>1653145213</td>\n",
       "    </tr>\n",
       "    <tr>\n",
       "      <th>https://www.op-online.de/</th>\n",
       "      <td>True</td>\n",
       "      <td>1726888</td>\n",
       "      <td>0.60</td>\n",
       "      <td>1.303800e+06</td>\n",
       "      <td>0.000984</td>\n",
       "      <td>0.434729</td>\n",
       "      <td>0.241796</td>\n",
       "      <td>0.376896</td>\n",
       "      <td>0.209630</td>\n",
       "      <td>1653145329</td>\n",
       "    </tr>\n",
       "  </tbody>\n",
       "</table>\n",
       "<p>52422 rows × 10 columns</p>\n",
       "</div>"
      ],
      "text/plain": [
       "                                       URL  Green Hosting  Bytes  \\\n",
       "https://www.google.com/               True         170821   0.96   \n",
       "https://www.youtube.com/              True        3543405   0.32   \n",
       "https://www.facebook.com/             True         435816   0.91   \n",
       "https://www.netflix.com/fr-en/        True        2004776   0.54   \n",
       "https://www.microsoft.com/fr-fr/   unknown         768548   0.80   \n",
       "...                                    ...            ...    ...   \n",
       "https://genericsildenafil.online/     True          35581   0.99   \n",
       "https://www.myamcat.com/           unknown       37919212   0.01   \n",
       "https://nobaproject.com/              True        1859882   0.57   \n",
       "https://govst.edu/                 unknown       19112240   0.03   \n",
       "https://www.op-online.de/             True        1726888   0.60   \n",
       "\n",
       "                                   Cleaner Than %  Stats_Adjusted Bytes  \\\n",
       "https://www.google.com/              1.289699e+05              0.000097   \n",
       "https://www.youtube.com/             2.675271e+06              0.002018   \n",
       "https://www.facebook.com/            3.290411e+05              0.000248   \n",
       "https://www.netflix.com/fr-en/       1.513606e+06              0.001142   \n",
       "https://www.microsoft.com/fr-fr/     5.802537e+05              0.000438   \n",
       "...                                           ...                   ...   \n",
       "https://genericsildenafil.online/    2.686365e+04              0.000020   \n",
       "https://www.myamcat.com/             2.862901e+07              0.021597   \n",
       "https://nobaproject.com/             1.404211e+06              0.001059   \n",
       "https://govst.edu/                   1.442974e+07              0.010885   \n",
       "https://www.op-online.de/            1.303800e+06              0.000984   \n",
       "\n",
       "                                   Stats_Energy  Stats_CO2_Grid_Grams  \\\n",
       "https://www.google.com/                0.043003              0.023918   \n",
       "https://www.youtube.com/               0.892021              0.496142   \n",
       "https://www.facebook.com/              0.109713              0.061022   \n",
       "https://www.netflix.com/fr-en/         0.504685              0.280706   \n",
       "https://www.microsoft.com/fr-fr/       0.193475              0.107611   \n",
       "...                                         ...                   ...   \n",
       "https://genericsildenafil.online/      0.008957              0.004982   \n",
       "https://www.myamcat.com/               9.545830              5.309390   \n",
       "https://nobaproject.com/               0.468209              0.260418   \n",
       "https://govst.edu/                     4.811339              2.676067   \n",
       "https://www.op-online.de/              0.434729              0.241796   \n",
       "\n",
       "                                   Stats_CO2_Grid_Litres  \\\n",
       "https://www.google.com/                         0.037282   \n",
       "https://www.youtube.com/                        0.773354   \n",
       "https://www.facebook.com/                       0.095118   \n",
       "https://www.netflix.com/fr-en/                  0.437546   \n",
       "https://www.microsoft.com/fr-fr/                0.167737   \n",
       "...                                                  ...   \n",
       "https://genericsildenafil.online/               0.007766   \n",
       "https://www.myamcat.com/                        8.275932   \n",
       "https://nobaproject.com/                        0.405922   \n",
       "https://govst.edu/                              4.171279   \n",
       "https://www.op-online.de/                       0.376896   \n",
       "\n",
       "                                   Stats_CO2_Renewable_Grams  \\\n",
       "https://www.google.com/                             0.020736   \n",
       "https://www.youtube.com/                            0.430140   \n",
       "https://www.facebook.com/                           0.052904   \n",
       "https://www.netflix.com/fr-en/                      0.243363   \n",
       "https://www.microsoft.com/fr-fr/                    0.093295   \n",
       "...                                                      ...   \n",
       "https://genericsildenafil.online/                   0.004319   \n",
       "https://www.myamcat.com/                            4.603073   \n",
       "https://nobaproject.com/                            0.225774   \n",
       "https://govst.edu/                                  2.320065   \n",
       "https://www.op-online.de/                           0.209630   \n",
       "\n",
       "                                   Stats_CO2_Renewable_Litres  \n",
       "https://www.google.com/                            1651677726  \n",
       "https://www.youtube.com/                           1651668187  \n",
       "https://www.facebook.com/                          1651677735  \n",
       "https://www.netflix.com/fr-en/                     1651677748  \n",
       "https://www.microsoft.com/fr-fr/                   1651677764  \n",
       "...                                                       ...  \n",
       "https://genericsildenafil.online/                  1653145171  \n",
       "https://www.myamcat.com/                           1653145180  \n",
       "https://nobaproject.com/                           1653145161  \n",
       "https://govst.edu/                                 1653145213  \n",
       "https://www.op-online.de/                          1653145329  \n",
       "\n",
       "[52422 rows x 10 columns]"
      ]
     },
     "execution_count": 56,
     "metadata": {},
     "output_type": "execute_result"
    }
   ],
   "source": [
    "df"
   ]
  },
  {
   "cell_type": "code",
   "execution_count": 57,
   "id": "699445c1",
   "metadata": {},
   "outputs": [],
   "source": [
    "df = pd.read_csv('data\\datasets\\main.csv', index_col=None)"
   ]
  },
  {
   "cell_type": "markdown",
   "id": "b4363ba9",
   "metadata": {},
   "source": [
    "# Editing"
   ]
  },
  {
   "cell_type": "code",
   "execution_count": 58,
   "id": "0e7bb383",
   "metadata": {},
   "outputs": [],
   "source": [
    "#Basic cleanup, column renaming, dropping duplicates."
   ]
  },
  {
   "cell_type": "code",
   "execution_count": 59,
   "id": "a9df07fb",
   "metadata": {},
   "outputs": [],
   "source": [
    "df.columns = ['URL', 'Green Hosting', 'Bytes', 'Cleaner Than %', \"Statistics: Adjusted Bytes\", \"Statistics: Energy (KWG)\", \"Statistics: CO2 Grams, Grid\", \"Statistics: CO2 Litres, Grid\", \"Statistics: CO2 Grams, Renewable\", \"Statistics: CO2 Litres, Renewable\", \"Gathered At:\"]"
   ]
  },
  {
   "cell_type": "code",
   "execution_count": 60,
   "id": "3d040210",
   "metadata": {},
   "outputs": [],
   "source": [
    "df = df.drop_duplicates(subset=['URL'], keep='first')"
   ]
  },
  {
   "cell_type": "code",
   "execution_count": 61,
   "id": "1e3f754f",
   "metadata": {},
   "outputs": [
    {
     "data": {
      "text/plain": [
       "URL                                  0\n",
       "Green Hosting                        0\n",
       "Bytes                                0\n",
       "Cleaner Than %                       0\n",
       "Statistics: Adjusted Bytes           0\n",
       "Statistics: Energy (KWG)             0\n",
       "Statistics: CO2 Grams, Grid          0\n",
       "Statistics: CO2 Litres, Grid         0\n",
       "Statistics: CO2 Grams, Renewable     0\n",
       "Statistics: CO2 Litres, Renewable    0\n",
       "Gathered At:                         0\n",
       "dtype: int64"
      ]
     },
     "execution_count": 61,
     "metadata": {},
     "output_type": "execute_result"
    }
   ],
   "source": [
    "df.isna().sum()"
   ]
  },
  {
   "cell_type": "code",
   "execution_count": 62,
   "id": "8883c717",
   "metadata": {},
   "outputs": [],
   "source": [
    "# There are no nulls/na's in the dataset."
   ]
  },
  {
   "cell_type": "code",
   "execution_count": 63,
   "id": "1eeba188",
   "metadata": {},
   "outputs": [],
   "source": [
    "# Converts to values between 0 and 100, originally it was between 0 and 1.\n",
    "df[\"Cleaner Than %\"] = df[\"Cleaner Than %\"].apply(lambda x: x*100)"
   ]
  },
  {
   "cell_type": "code",
   "execution_count": 64,
   "id": "ba4bd933",
   "metadata": {},
   "outputs": [],
   "source": [
    "# Converts unix timestamp to datetime.\n",
    "df[\"Gathered At:\"] = pd.to_datetime(df['Gathered At:'], unit='s')"
   ]
  },
  {
   "cell_type": "code",
   "execution_count": 66,
   "id": "7debfb1b",
   "metadata": {},
   "outputs": [],
   "source": [
    "df.to_csv('data\\datasets\\main.csv')"
   ]
  },
  {
   "cell_type": "code",
   "execution_count": 89,
   "id": "df6dae62",
   "metadata": {},
   "outputs": [],
   "source": [
    "# Small change for a website entry which is an ip address.\n",
    "df.at[48594,'URL']='http://www.nontonanimeid.moe/'"
   ]
  },
  {
   "cell_type": "code",
   "execution_count": null,
   "id": "a244b4e5",
   "metadata": {},
   "outputs": [],
   "source": [
    "# Used only to make a csv file which is used by get_requester to parse the websites.\n",
    "df.iloc[0:5000].to_csv('test_data.csv', index=False, header=False)"
   ]
  },
  {
   "cell_type": "markdown",
   "id": "aaa038d2",
   "metadata": {},
   "source": [
    "# Analysis"
   ]
  },
  {
   "cell_type": "code",
   "execution_count": 42,
   "id": "93300119",
   "metadata": {},
   "outputs": [],
   "source": [
    "# Basic aanalysis of the data, some were for exploration purposes, others are used in the thesis."
   ]
  },
  {
   "cell_type": "code",
   "execution_count": 40,
   "id": "73a5d9b2",
   "metadata": {},
   "outputs": [
    {
     "data": {
      "text/plain": [
       "unknown    25708\n",
       "True       24326\n",
       "Name: Green Hosting, dtype: int64"
      ]
     },
     "execution_count": 40,
     "metadata": {},
     "output_type": "execute_result"
    }
   ],
   "source": [
    "df[\"Green Hosting\"].value_counts()"
   ]
  },
  {
   "cell_type": "code",
   "execution_count": 41,
   "id": "7b24f6e1",
   "metadata": {},
   "outputs": [
    {
     "data": {
      "text/html": [
       "<div>\n",
       "<style scoped>\n",
       "    .dataframe tbody tr th:only-of-type {\n",
       "        vertical-align: middle;\n",
       "    }\n",
       "\n",
       "    .dataframe tbody tr th {\n",
       "        vertical-align: top;\n",
       "    }\n",
       "\n",
       "    .dataframe thead th {\n",
       "        text-align: right;\n",
       "    }\n",
       "</style>\n",
       "<table border=\"1\" class=\"dataframe\">\n",
       "  <thead>\n",
       "    <tr style=\"text-align: right;\">\n",
       "      <th></th>\n",
       "      <th>Bytes</th>\n",
       "      <th>Cleaner Than %</th>\n",
       "      <th>Statistics: Adjusted Bytes</th>\n",
       "      <th>Statistics: Energy (KWG)</th>\n",
       "      <th>Statistics: CO2 Grams, Grid</th>\n",
       "      <th>Statistics: CO2 Litres, Grid</th>\n",
       "      <th>Statistics: CO2 Grams, Renewable</th>\n",
       "      <th>Statistics: CO2 Litres, Renewable</th>\n",
       "    </tr>\n",
       "  </thead>\n",
       "  <tbody>\n",
       "    <tr>\n",
       "      <th>count</th>\n",
       "      <td>5.003400e+04</td>\n",
       "      <td>50034.000000</td>\n",
       "      <td>5.003400e+04</td>\n",
       "      <td>5.003400e+04</td>\n",
       "      <td>50034.000000</td>\n",
       "      <td>50034.000000</td>\n",
       "      <td>50034.000000</td>\n",
       "      <td>50034.000000</td>\n",
       "    </tr>\n",
       "    <tr>\n",
       "      <th>mean</th>\n",
       "      <td>3.696112e+06</td>\n",
       "      <td>49.154275</td>\n",
       "      <td>2.790564e+06</td>\n",
       "      <td>2.105122e-03</td>\n",
       "      <td>0.930464</td>\n",
       "      <td>0.517524</td>\n",
       "      <td>0.806683</td>\n",
       "      <td>0.448677</td>\n",
       "    </tr>\n",
       "    <tr>\n",
       "      <th>std</th>\n",
       "      <td>5.847474e+06</td>\n",
       "      <td>28.671194</td>\n",
       "      <td>4.414843e+06</td>\n",
       "      <td>3.330431e-03</td>\n",
       "      <td>1.472050</td>\n",
       "      <td>0.818754</td>\n",
       "      <td>1.276221</td>\n",
       "      <td>0.709834</td>\n",
       "    </tr>\n",
       "    <tr>\n",
       "      <th>min</th>\n",
       "      <td>1.680000e+02</td>\n",
       "      <td>0.000000</td>\n",
       "      <td>1.268400e+02</td>\n",
       "      <td>9.568445e-08</td>\n",
       "      <td>0.000042</td>\n",
       "      <td>0.000024</td>\n",
       "      <td>0.000037</td>\n",
       "      <td>0.000020</td>\n",
       "    </tr>\n",
       "    <tr>\n",
       "      <th>25%</th>\n",
       "      <td>1.055308e+06</td>\n",
       "      <td>25.000000</td>\n",
       "      <td>7.967572e+05</td>\n",
       "      <td>6.010507e-04</td>\n",
       "      <td>0.265664</td>\n",
       "      <td>0.147763</td>\n",
       "      <td>0.230323</td>\n",
       "      <td>0.128105</td>\n",
       "    </tr>\n",
       "    <tr>\n",
       "      <th>50%</th>\n",
       "      <td>2.236138e+06</td>\n",
       "      <td>46.000000</td>\n",
       "      <td>1.688285e+06</td>\n",
       "      <td>1.273593e-03</td>\n",
       "      <td>0.562928</td>\n",
       "      <td>0.313101</td>\n",
       "      <td>0.488041</td>\n",
       "      <td>0.271448</td>\n",
       "    </tr>\n",
       "    <tr>\n",
       "      <th>75%</th>\n",
       "      <td>4.229322e+06</td>\n",
       "      <td>73.000000</td>\n",
       "      <td>3.193138e+06</td>\n",
       "      <td>2.408812e-03</td>\n",
       "      <td>1.064695</td>\n",
       "      <td>0.592183</td>\n",
       "      <td>0.923057</td>\n",
       "      <td>0.513404</td>\n",
       "    </tr>\n",
       "    <tr>\n",
       "      <th>max</th>\n",
       "      <td>3.040842e+08</td>\n",
       "      <td>100.000000</td>\n",
       "      <td>2.295836e+08</td>\n",
       "      <td>1.731912e-01</td>\n",
       "      <td>76.550528</td>\n",
       "      <td>42.577404</td>\n",
       "      <td>66.366883</td>\n",
       "      <td>36.913260</td>\n",
       "    </tr>\n",
       "  </tbody>\n",
       "</table>\n",
       "</div>"
      ],
      "text/plain": [
       "              Bytes  Cleaner Than %  Statistics: Adjusted Bytes  \\\n",
       "count  5.003400e+04    50034.000000                5.003400e+04   \n",
       "mean   3.696112e+06       49.154275                2.790564e+06   \n",
       "std    5.847474e+06       28.671194                4.414843e+06   \n",
       "min    1.680000e+02        0.000000                1.268400e+02   \n",
       "25%    1.055308e+06       25.000000                7.967572e+05   \n",
       "50%    2.236138e+06       46.000000                1.688285e+06   \n",
       "75%    4.229322e+06       73.000000                3.193138e+06   \n",
       "max    3.040842e+08      100.000000                2.295836e+08   \n",
       "\n",
       "       Statistics: Energy (KWG)  Statistics: CO2 Grams, Grid  \\\n",
       "count              5.003400e+04                 50034.000000   \n",
       "mean               2.105122e-03                     0.930464   \n",
       "std                3.330431e-03                     1.472050   \n",
       "min                9.568445e-08                     0.000042   \n",
       "25%                6.010507e-04                     0.265664   \n",
       "50%                1.273593e-03                     0.562928   \n",
       "75%                2.408812e-03                     1.064695   \n",
       "max                1.731912e-01                    76.550528   \n",
       "\n",
       "       Statistics: CO2 Litres, Grid  Statistics: CO2 Grams, Renewable  \\\n",
       "count                  50034.000000                      50034.000000   \n",
       "mean                       0.517524                          0.806683   \n",
       "std                        0.818754                          1.276221   \n",
       "min                        0.000024                          0.000037   \n",
       "25%                        0.147763                          0.230323   \n",
       "50%                        0.313101                          0.488041   \n",
       "75%                        0.592183                          0.923057   \n",
       "max                       42.577404                         66.366883   \n",
       "\n",
       "       Statistics: CO2 Litres, Renewable  \n",
       "count                       50034.000000  \n",
       "mean                            0.448677  \n",
       "std                             0.709834  \n",
       "min                             0.000020  \n",
       "25%                             0.128105  \n",
       "50%                             0.271448  \n",
       "75%                             0.513404  \n",
       "max                            36.913260  "
      ]
     },
     "execution_count": 41,
     "metadata": {},
     "output_type": "execute_result"
    }
   ],
   "source": [
    "df.describe()"
   ]
  },
  {
   "cell_type": "code",
   "execution_count": 43,
   "id": "b9fd7cc6",
   "metadata": {},
   "outputs": [
    {
     "data": {
      "text/plain": [
       "Bytes                                3.696112e+06\n",
       "Cleaner Than %                       4.915428e+01\n",
       "Statistics: Adjusted Bytes           2.790564e+06\n",
       "Statistics: Energy (KWG)             2.105122e-03\n",
       "Statistics: CO2 Grams, Grid          9.304637e-01\n",
       "Statistics: CO2 Litres, Grid         5.175239e-01\n",
       "Statistics: CO2 Grams, Renewable     8.066826e-01\n",
       "Statistics: CO2 Litres, Renewable    4.486769e-01\n",
       "dtype: float64"
      ]
     },
     "execution_count": 43,
     "metadata": {},
     "output_type": "execute_result"
    }
   ],
   "source": [
    "df.mean()"
   ]
  },
  {
   "cell_type": "code",
   "execution_count": 44,
   "id": "0695275e",
   "metadata": {},
   "outputs": [
    {
     "data": {
      "text/plain": [
       "Bytes                                2.236138e+06\n",
       "Cleaner Than %                       4.600000e+01\n",
       "Statistics: Adjusted Bytes           1.688285e+06\n",
       "Statistics: Energy (KWG)             1.273593e-03\n",
       "Statistics: CO2 Grams, Grid          5.629283e-01\n",
       "Statistics: CO2 Litres, Grid         3.131007e-01\n",
       "Statistics: CO2 Grams, Renewable     4.880410e-01\n",
       "Statistics: CO2 Litres, Renewable    2.714484e-01\n",
       "dtype: float64"
      ]
     },
     "execution_count": 44,
     "metadata": {},
     "output_type": "execute_result"
    }
   ],
   "source": [
    "df.median()"
   ]
  },
  {
   "cell_type": "code",
   "execution_count": 45,
   "id": "181c2e5d",
   "metadata": {},
   "outputs": [
    {
     "data": {
      "text/plain": [
       "URL                                  https://www.google.com/https://www.youtube.com...\n",
       "Green Hosting                        TrueTrueTrueTrueunknownTrueunknownunknownunkno...\n",
       "Bytes                                                                     184931250547\n",
       "Cleaner Than %                                                               2459385.0\n",
       "Statistics: Adjusted Bytes                                         139623094162.984985\n",
       "Statistics: Energy (KWG)                                                    105.327653\n",
       "Statistics: CO2 Grams, Grid                                               46554.822635\n",
       "Statistics: CO2 Litres, Grid                                               25893.79235\n",
       "Statistics: CO2 Grams, Renewable                                          40361.556638\n",
       "Statistics: CO2 Litres, Renewable                                         22449.097802\n",
       "dtype: object"
      ]
     },
     "execution_count": 45,
     "metadata": {},
     "output_type": "execute_result"
    }
   ],
   "source": [
    "df.sum()"
   ]
  },
  {
   "cell_type": "code",
   "execution_count": 46,
   "id": "c49373bc",
   "metadata": {},
   "outputs": [
    {
     "data": {
      "text/html": [
       "<div>\n",
       "<style scoped>\n",
       "    .dataframe tbody tr th:only-of-type {\n",
       "        vertical-align: middle;\n",
       "    }\n",
       "\n",
       "    .dataframe tbody tr th {\n",
       "        vertical-align: top;\n",
       "    }\n",
       "\n",
       "    .dataframe thead th {\n",
       "        text-align: right;\n",
       "    }\n",
       "</style>\n",
       "<table border=\"1\" class=\"dataframe\">\n",
       "  <thead>\n",
       "    <tr style=\"text-align: right;\">\n",
       "      <th></th>\n",
       "      <th>URL</th>\n",
       "      <th>Green Hosting</th>\n",
       "      <th>Bytes</th>\n",
       "      <th>Cleaner Than %</th>\n",
       "      <th>Statistics: Adjusted Bytes</th>\n",
       "      <th>Statistics: Energy (KWG)</th>\n",
       "      <th>Statistics: CO2 Grams, Grid</th>\n",
       "      <th>Statistics: CO2 Litres, Grid</th>\n",
       "      <th>Statistics: CO2 Grams, Renewable</th>\n",
       "      <th>Statistics: CO2 Litres, Renewable</th>\n",
       "      <th>Gathered At:</th>\n",
       "    </tr>\n",
       "  </thead>\n",
       "  <tbody>\n",
       "    <tr>\n",
       "      <th>41527</th>\n",
       "      <td>https://lematin.ma/</td>\n",
       "      <td>True</td>\n",
       "      <td>304084175</td>\n",
       "      <td>0.0</td>\n",
       "      <td>2.295836e+08</td>\n",
       "      <td>0.173191</td>\n",
       "      <td>76.550528</td>\n",
       "      <td>42.577404</td>\n",
       "      <td>66.366883</td>\n",
       "      <td>36.91326</td>\n",
       "      <td>2022-05-15 12:40:01</td>\n",
       "    </tr>\n",
       "  </tbody>\n",
       "</table>\n",
       "</div>"
      ],
      "text/plain": [
       "                       URL Green Hosting      Bytes  Cleaner Than %  \\\n",
       "41527  https://lematin.ma/          True  304084175             0.0   \n",
       "\n",
       "       Statistics: Adjusted Bytes  Statistics: Energy (KWG)  \\\n",
       "41527                2.295836e+08                  0.173191   \n",
       "\n",
       "       Statistics: CO2 Grams, Grid  Statistics: CO2 Litres, Grid  \\\n",
       "41527                    76.550528                     42.577404   \n",
       "\n",
       "       Statistics: CO2 Grams, Renewable  Statistics: CO2 Litres, Renewable  \\\n",
       "41527                         66.366883                           36.91326   \n",
       "\n",
       "             Gathered At:  \n",
       "41527 2022-05-15 12:40:01  "
      ]
     },
     "execution_count": 46,
     "metadata": {},
     "output_type": "execute_result"
    }
   ],
   "source": [
    "max = df[\"Statistics: Adjusted Bytes\"].max()\n",
    "df[df[\"Statistics: Adjusted Bytes\"] == max]"
   ]
  },
  {
   "cell_type": "code",
   "execution_count": 47,
   "id": "053a2fc5",
   "metadata": {},
   "outputs": [
    {
     "data": {
      "text/html": [
       "<div>\n",
       "<style scoped>\n",
       "    .dataframe tbody tr th:only-of-type {\n",
       "        vertical-align: middle;\n",
       "    }\n",
       "\n",
       "    .dataframe tbody tr th {\n",
       "        vertical-align: top;\n",
       "    }\n",
       "\n",
       "    .dataframe thead th {\n",
       "        text-align: right;\n",
       "    }\n",
       "</style>\n",
       "<table border=\"1\" class=\"dataframe\">\n",
       "  <thead>\n",
       "    <tr style=\"text-align: right;\">\n",
       "      <th></th>\n",
       "      <th>URL</th>\n",
       "      <th>Green Hosting</th>\n",
       "      <th>Bytes</th>\n",
       "      <th>Cleaner Than %</th>\n",
       "      <th>Statistics: Adjusted Bytes</th>\n",
       "      <th>Statistics: Energy (KWG)</th>\n",
       "      <th>Statistics: CO2 Grams, Grid</th>\n",
       "      <th>Statistics: CO2 Litres, Grid</th>\n",
       "      <th>Statistics: CO2 Grams, Renewable</th>\n",
       "      <th>Statistics: CO2 Litres, Renewable</th>\n",
       "      <th>Gathered At:</th>\n",
       "    </tr>\n",
       "  </thead>\n",
       "  <tbody>\n",
       "    <tr>\n",
       "      <th>40633</th>\n",
       "      <td>https://bloog.pl/</td>\n",
       "      <td>unknown</td>\n",
       "      <td>168</td>\n",
       "      <td>100.0</td>\n",
       "      <td>126.84</td>\n",
       "      <td>9.568445e-08</td>\n",
       "      <td>0.000042</td>\n",
       "      <td>0.000024</td>\n",
       "      <td>0.000037</td>\n",
       "      <td>0.00002</td>\n",
       "      <td>2022-05-15 10:05:15</td>\n",
       "    </tr>\n",
       "  </tbody>\n",
       "</table>\n",
       "</div>"
      ],
      "text/plain": [
       "                     URL Green Hosting  Bytes  Cleaner Than %  \\\n",
       "40633  https://bloog.pl/       unknown    168           100.0   \n",
       "\n",
       "       Statistics: Adjusted Bytes  Statistics: Energy (KWG)  \\\n",
       "40633                      126.84              9.568445e-08   \n",
       "\n",
       "       Statistics: CO2 Grams, Grid  Statistics: CO2 Litres, Grid  \\\n",
       "40633                     0.000042                      0.000024   \n",
       "\n",
       "       Statistics: CO2 Grams, Renewable  Statistics: CO2 Litres, Renewable  \\\n",
       "40633                          0.000037                            0.00002   \n",
       "\n",
       "             Gathered At:  \n",
       "40633 2022-05-15 10:05:15  "
      ]
     },
     "execution_count": 47,
     "metadata": {},
     "output_type": "execute_result"
    }
   ],
   "source": [
    "min = df[\"Statistics: Adjusted Bytes\"].min()\n",
    "df[df[\"Statistics: Adjusted Bytes\"] == min]"
   ]
  },
  {
   "cell_type": "code",
   "execution_count": 48,
   "id": "e3383e14",
   "metadata": {},
   "outputs": [],
   "source": [
    "# Used for the 'top and bottom 1000' section of the thesis.\n",
    "dfmax = df.sort_values(['Bytes'], ascending=False).groupby('Bytes').tail(2)\n",
    "dfmin = df.sort_values(['Bytes'], ascending=True).groupby('Bytes').tail(2)"
   ]
  },
  {
   "cell_type": "code",
   "execution_count": 78,
   "id": "7c435149",
   "metadata": {},
   "outputs": [
    {
     "name": "stdout",
     "output_type": "stream",
     "text": [
      "24326\n",
      "25708\n"
     ]
    }
   ],
   "source": [
    "# Used for the 'Hosting type' section of the thesis.\n",
    "trues = df[df['Green Hosting'] == 'True']\n",
    "unknowns = df[df['Green Hosting'] != 'True']\n",
    "print(trues.URL.count())\n",
    "print(unknowns.URL.count())"
   ]
  },
  {
   "cell_type": "code",
   "execution_count": 85,
   "id": "8624ecac",
   "metadata": {},
   "outputs": [
    {
     "name": "stdout",
     "output_type": "stream",
     "text": [
      "897.840743\n",
      "5\n",
      "179.5681486\n"
     ]
    }
   ],
   "source": [
    "# This is the data used in the bigger table of that section. The 100 mil value is for the >=100mb column. \n",
    "# To get the >=50mb and the other values simply change to the needed value.\n",
    "trues = trues[trues['Bytes'] >= 100000000]\n",
    "print(trues.Bytes.sum() / 1e6)\n",
    "print(trues.Bytes.count())\n",
    "print(trues.Bytes.sum() / 1e6 / trues.Bytes.count())"
   ]
  },
  {
   "cell_type": "code",
   "execution_count": 86,
   "id": "3e2f9e18",
   "metadata": {},
   "outputs": [
    {
     "name": "stdout",
     "output_type": "stream",
     "text": [
      "777.391624\n",
      "5\n",
      "155.4783248\n"
     ]
    }
   ],
   "source": [
    "# Same goes for this part.\n",
    "unknowns = unknowns[unknowns['Bytes'] >= 100000000]\n",
    "print(unknowns.Bytes.sum() / 1e6)\n",
    "print(unknowns.Bytes.count())\n",
    "print(unknowns.Bytes.sum() / 1e6 / unknowns.Bytes.count())"
   ]
  },
  {
   "cell_type": "markdown",
   "id": "453c2e69",
   "metadata": {},
   "source": [
    "# Tables"
   ]
  },
  {
   "cell_type": "markdown",
   "id": "ccb4ee29",
   "metadata": {},
   "source": [
    "### For \"Overview\" & \"Per Domain\""
   ]
  },
  {
   "cell_type": "code",
   "execution_count": 90,
   "id": "d76b6cfa",
   "metadata": {},
   "outputs": [],
   "source": [
    "# Adds a new column with the TLD type.\n",
    "df['tld'] = df['URL'].apply(lambda x: get_tld(x))"
   ]
  },
  {
   "cell_type": "code",
   "execution_count": 91,
   "id": "76469e9f",
   "metadata": {},
   "outputs": [],
   "source": [
    "df['tld'] = df['tld'].astype(str)"
   ]
  },
  {
   "cell_type": "code",
   "execution_count": 92,
   "id": "30c19970",
   "metadata": {},
   "outputs": [
    {
     "data": {
      "text/plain": [
       "com         27873\n",
       "org          3868\n",
       "net          2065\n",
       "edu           921\n",
       "ru            914\n",
       "            ...  \n",
       "or.id           1\n",
       "com.es          1\n",
       "xn--p1ai        1\n",
       "garden          1\n",
       "edu.mo          1\n",
       "Name: tld, Length: 716, dtype: int64"
      ]
     },
     "execution_count": 92,
     "metadata": {},
     "output_type": "execute_result"
    }
   ],
   "source": [
    "# Used for a table mentioning all TLD's.\n",
    "tld = df['tld'].value_counts()"
   ]
  },
  {
   "cell_type": "code",
   "execution_count": 93,
   "id": "970928a7",
   "metadata": {},
   "outputs": [],
   "source": [
    "# List used for the overview section where the top 40 TLD's are plotted.\n",
    "df1 = df.groupby('tld').filter(lambda d: len(d) > 100)"
   ]
  },
  {
   "cell_type": "code",
   "execution_count": 98,
   "id": "b7dd998e",
   "metadata": {},
   "outputs": [
    {
     "data": {
      "image/png": "[encoded data removed]",
      "text/plain": [
       "<Figure size 4800x3000 with 1 Axes>"
      ]
     },
     "metadata": {
      "needs_background": "light"
     },
     "output_type": "display_data"
    }
   ],
   "source": [
    "# Plot of the top 40.\n",
    "plt.figure(figsize=(16,10), dpi=300)\n",
    "height = df1[\"tld\"].value_counts()\n",
    "bars = df1[\"tld\"].unique()\n",
    "y_pos = np.arange(len(bars))\n",
    "plt.bar(y_pos, height)\n",
    "plt.xticks(y_pos, bars)\n",
    "plt.savefig('data/images/graphs/tld_overview.png')\n",
    "plt.show()"
   ]
  },
  {
   "cell_type": "code",
   "execution_count": 99,
   "id": "df7e0ae0",
   "metadata": {},
   "outputs": [
    {
     "data": {
      "image/png": "[encoded data removed]",
      "text/plain": [
       "<Figure size 864x648 with 1 Axes>"
      ]
     },
     "metadata": {
      "needs_background": "light"
     },
     "output_type": "display_data"
    }
   ],
   "source": [
    "# Used for the 'Outliers' section of the thesis.\n",
    "df[['Bytes', 'Statistics: Adjusted Bytes']].plot(figsize =(12, 9))\n",
    "plt.savefig('data/images/graphs/bytes_and_adjusted_bytes.png')"
   ]
  },
  {
   "cell_type": "markdown",
   "id": "fe75c983",
   "metadata": {},
   "source": [
    "# Domains\n",
    "### Original"
   ]
  },
  {
   "cell_type": "code",
   "execution_count": 100,
   "id": "9df53986",
   "metadata": {},
   "outputs": [],
   "source": [
    "# The following code is used only for the Domains section of the thesis.\n",
    "# Splits the dataset in the original 7 TLD's for the section that talks about them. Then combines only those tld's into merged_original.\n",
    "com = df[df['URL'].str.contains('.com/', regex = False)]\n",
    "gov = df[df['URL'].str.contains('.gov/', regex = False)]\n",
    "org = df[df['URL'].str.contains('.org/', regex = False)]\n",
    "net = df[df['URL'].str.contains('.net/', regex = False)]\n",
    "edu = df[df['URL'].str.contains('.edu/', regex = False)]\n",
    "int = df[df['URL'].str.contains('.int/', regex = False)]\n",
    "mil = df[df['URL'].str.contains('.mil/', regex = False)]\n",
    "original = [com, gov, org, net, edu, int, mil]\n",
    "merged_original = pd.concat(original)"
   ]
  },
  {
   "cell_type": "code",
   "execution_count": 101,
   "id": "c7597dd8",
   "metadata": {},
   "outputs": [
    {
     "data": {
      "text/plain": [
       "com                   27873\n",
       "org                    3868\n",
       "net                    2065\n",
       "edu                     921\n",
       "gov                     387\n",
       "int                      24\n",
       "mil                       5\n",
       "eu.com                    2\n",
       "uk.com                    2\n",
       "js.org                    1\n",
       "us.com                    1\n",
       "bplaced.net               1\n",
       "duckdns.org               1\n",
       "freedesktop.org           1\n",
       "de.com                    1\n",
       "mp                        1\n",
       "altervista.org            1\n",
       "cn.com                    1\n",
       "herokuapp.com             1\n",
       "pagexl.com                1\n",
       "africa.com                1\n",
       "pythonanywhere.com        1\n",
       "us.org                    1\n",
       "Name: tld, dtype: int64"
      ]
     },
     "execution_count": 101,
     "metadata": {},
     "output_type": "execute_result"
    }
   ],
   "source": [
    "merged_original['tld'] = merged_original['URL'].apply(lambda x: get_tld(x))\n",
    "merged_original['tld'] = merged_original['tld'].astype(str)\n",
    "merged_original['tld'].value_counts()"
   ]
  },
  {
   "cell_type": "code",
   "execution_count": 103,
   "id": "8f6c98ee",
   "metadata": {},
   "outputs": [
    {
     "data": {
      "text/plain": [
       "<Figure size 4500x4500 with 0 Axes>"
      ]
     },
     "metadata": {},
     "output_type": "display_data"
    },
    {
     "data": {
      "image/png": "[encoded data removed]",
      "text/plain": [
       "<Figure size 432x288 with 1 Axes>"
      ]
     },
     "metadata": {
      "needs_background": "light"
     },
     "output_type": "display_data"
    }
   ],
   "source": [
    "plt.figure(figsize=(15,15), dpi=300)\n",
    "mean = (mil['Bytes'].mean() / 1e+6)\n",
    "median = (mil['Bytes'].median() / 1e+6)\n",
    "std = (mil['Bytes'].std() / 1e+6)\n",
    "data = [mean, median, std]\n",
    "dfmmms = pd.DataFrame(data)\n",
    "\n",
    "ax = dfmmms.T.plot(kind='bar')\n",
    "for container in ax.containers:\n",
    "    ax.bar_label(container)\n",
    "ax.legend(['Mean MB', 'Median MB', 'StdDev MB'], fontsize=14)\n",
    "plt.savefig('data/images/graphs/tld_overview_bytes.png')\n",
    "plt.show()"
   ]
  },
  {
   "cell_type": "code",
   "execution_count": 44,
   "id": "10d02f7f",
   "metadata": {},
   "outputs": [
    {
     "data": {
      "text/plain": [
       "36304155"
      ]
     },
     "execution_count": 44,
     "metadata": {},
     "output_type": "execute_result"
    }
   ],
   "source": [
    "mil.Bytes.sum()"
   ]
  },
  {
   "cell_type": "markdown",
   "id": "0d5b2e6d",
   "metadata": {},
   "source": [
    "# Regional"
   ]
  },
  {
   "cell_type": "code",
   "execution_count": 64,
   "id": "2b2ddb1c",
   "metadata": {},
   "outputs": [],
   "source": [
    "eu = df[df['URL'].str.contains('.eu/', regex = False)] # EU\n",
    "at = df[df['URL'].str.contains('.at/', regex = False)] # Austria\n",
    "be = df[df['URL'].str.contains('.be/', regex = False)] # Belgium\n",
    "bg = df[df['URL'].str.contains('.bg/', regex = False)] # Bulgaria\n",
    "by = df[df['URL'].str.contains('.by/', regex = False)] # Belarus\n",
    "hr = df[df['URL'].str.contains('.hr/', regex = False)] # Croatia\n",
    "cz = df[df['URL'].str.contains('.cz/', regex = False)] # Czech Republic\n",
    "de = df[df['URL'].str.contains('.de/', regex = False)] # Germany\n",
    "dk = df[df['URL'].str.contains('.dk/', regex = False)] # Denmark\n",
    "ee = df[df['URL'].str.contains('.ee/', regex = False)] # Estonia\n",
    "es = df[df['URL'].str.contains('.es/', regex = False)] # Spain\n",
    "fi = df[df['URL'].str.contains('.fi/', regex = False)] # Finland\n",
    "fr = df[df['URL'].str.contains('.fr/', regex = False)] # France\n",
    "gr = df[df['URL'].str.contains('.gr/', regex = False)] # Greece\n",
    "hu = df[df['URL'].str.contains('.hu/', regex = False)] # Hungary\n",
    "ie = df[df['URL'].str.contains('.ie/', regex = False)] # Ireland\n",
    "it = df[df['URL'].str.contains('.it/', regex = False)] # Italy\n",
    "lv = df[df['URL'].str.contains('.lv/', regex = False)] # Latvia\n",
    "lt = df[df['URL'].str.contains('.lt/', regex = False)] # Lithuania\n",
    "lu = df[df['URL'].str.contains('.lu/', regex = False)] # Luxembourg\n",
    "mt = df[df['URL'].str.contains('.mt/', regex = False)] # Malta\n",
    "uk = df[df['URL'].str.contains('.uk/', regex = False)] # United Kingdom\n",
    "gb = df[df['URL'].str.contains('.gb/', regex = False)] # Great Britain\n",
    "nl = df[df['URL'].str.contains('.nl/', regex = False)] # Netherlands\n",
    "pl = df[df['URL'].str.contains('.pl/', regex = False)] # Poland\n",
    "pt = df[df['URL'].str.contains('.pt/', regex = False)] # Portugal\n",
    "ro = df[df['URL'].str.contains('.ro/', regex = False)] # Romania\n",
    "sk = df[df['URL'].str.contains('.sk/', regex = False)] # Slovakia\n",
    "si = df[df['URL'].str.contains('.si/', regex = False)] # Slovenia\n",
    "se = df[df['URL'].str.contains('.se/', regex = False)] # Sweden\n",
    "\n",
    "europe = [eu, at, be, bg, by, hr, cz, de, dk, ee, es, fi, fr, gr, hu, ie, it, lv, lt, lu, mt, uk, gb, nl, pl, pt, ro, sk, si, se]\n",
    "merged_eu = pd.concat(europe)"
   ]
  },
  {
   "cell_type": "code",
   "execution_count": 73,
   "id": "507eb2e9",
   "metadata": {},
   "outputs": [
    {
     "data": {
      "text/html": [
       "<div>\n",
       "<style scoped>\n",
       "    .dataframe tbody tr th:only-of-type {\n",
       "        vertical-align: middle;\n",
       "    }\n",
       "\n",
       "    .dataframe tbody tr th {\n",
       "        vertical-align: top;\n",
       "    }\n",
       "\n",
       "    .dataframe thead th {\n",
       "        text-align: right;\n",
       "    }\n",
       "</style>\n",
       "<table border=\"1\" class=\"dataframe\">\n",
       "  <thead>\n",
       "    <tr style=\"text-align: right;\">\n",
       "      <th></th>\n",
       "      <th>URL</th>\n",
       "      <th>Green Hosting</th>\n",
       "      <th>Bytes</th>\n",
       "      <th>Cleaner Than %</th>\n",
       "      <th>Statistics: Adjusted Bytes</th>\n",
       "      <th>Statistics: Energy (KWG)</th>\n",
       "      <th>Statistics: CO2 Grams, Grid</th>\n",
       "      <th>Statistics: CO2 Litres, Grid</th>\n",
       "      <th>Statistics: CO2 Grams, Renewable</th>\n",
       "      <th>Statistics: CO2 Litres, Renewable</th>\n",
       "      <th>Gathered At:</th>\n",
       "      <th>tld</th>\n",
       "    </tr>\n",
       "  </thead>\n",
       "  <tbody>\n",
       "    <tr>\n",
       "      <th>55</th>\n",
       "      <td>https://european-union.europa.eu/select-langua...</td>\n",
       "      <td>False</td>\n",
       "      <td>235949</td>\n",
       "      <td>95.0</td>\n",
       "      <td>178141.495</td>\n",
       "      <td>0.000134</td>\n",
       "      <td>0.059398</td>\n",
       "      <td>0.033037</td>\n",
       "      <td>0.051496</td>\n",
       "      <td>0.028642</td>\n",
       "      <td>2022-05-04 15:24:23</td>\n",
       "      <td>eu</td>\n",
       "    </tr>\n",
       "  </tbody>\n",
       "</table>\n",
       "</div>"
      ],
      "text/plain": [
       "                                                  URL Green Hosting   Bytes  \\\n",
       "55  https://european-union.europa.eu/select-langua...         False  235949   \n",
       "\n",
       "    Cleaner Than %  Statistics: Adjusted Bytes  Statistics: Energy (KWG)  \\\n",
       "55            95.0                  178141.495                  0.000134   \n",
       "\n",
       "    Statistics: CO2 Grams, Grid  Statistics: CO2 Litres, Grid  \\\n",
       "55                     0.059398                      0.033037   \n",
       "\n",
       "    Statistics: CO2 Grams, Renewable  Statistics: CO2 Litres, Renewable  \\\n",
       "55                          0.051496                           0.028642   \n",
       "\n",
       "          Gathered At: tld  \n",
       "55 2022-05-04 15:24:23  eu  "
      ]
     },
     "execution_count": 73,
     "metadata": {},
     "output_type": "execute_result"
    }
   ],
   "source": [
    "merged_eu.head(1)"
   ]
  },
  {
   "cell_type": "code",
   "execution_count": 69,
   "id": "65d1a9de",
   "metadata": {},
   "outputs": [
    {
     "name": "stdout",
     "output_type": "stream",
     "text": [
      "14441057960\n",
      "3270167.1105072466\n",
      "2227436.0\n"
     ]
    }
   ],
   "source": [
    "mean = (merged_eu['Bytes'].mean())\n",
    "median = (merged_eu['Bytes'].median())\n",
    "print(merged_eu['Bytes'].sum())\n",
    "print(mean)\n",
    "print(median)"
   ]
  },
  {
   "cell_type": "code",
   "execution_count": 74,
   "id": "31e5696d",
   "metadata": {},
   "outputs": [
    {
     "name": "stdout",
     "output_type": "stream",
     "text": [
      "8.22490918956489\n",
      "0.0018625247258978466\n",
      "0.00126863688770675\n"
     ]
    }
   ],
   "source": [
    "mean = (merged_eu['Statistics: Energy (KWG)'].mean())\n",
    "median = (merged_eu['Statistics: Energy (KWG)'].median())\n",
    "print(merged_eu['Statistics: Energy (KWG)'].sum())\n",
    "print(mean)\n",
    "print(median)"
   ]
  },
  {
   "cell_type": "code",
   "execution_count": 76,
   "id": "01d67f82",
   "metadata": {},
   "outputs": [
    {
     "name": "stdout",
     "output_type": "stream",
     "text": [
      "3635.4098617877776\n",
      "0.8232359288468699\n",
      "0.5607375043664128\n"
     ]
    }
   ],
   "source": [
    "mean = (merged_eu['Statistics: CO2 Grams, Grid'].mean())\n",
    "median = (merged_eu['Statistics: CO2 Grams, Grid'].median())\n",
    "print(merged_eu['Statistics: CO2 Grams, Grid'].sum())\n",
    "print(mean)\n",
    "print(median)"
   ]
  },
  {
   "cell_type": "code",
   "execution_count": 77,
   "id": "b8c472e6",
   "metadata": {},
   "outputs": [],
   "source": [
    "us = df[df['URL'].str.contains('.us/', regex = False)] # United States\n",
    "ca = df[df['URL'].str.contains('.ca/', regex = False)] # Canada\n",
    "mx = df[df['URL'].str.contains('.mx/', regex = False)] # Mexico\n",
    "bz = df[df['URL'].str.contains('.bz/', regex = False)] # Belize\n",
    "cr = df[df['URL'].str.contains('.cr/', regex = False)] # Costa Rica\n",
    "sv = df[df['URL'].str.contains('.sv/', regex = False)] # El Salvador\n",
    "gt = df[df['URL'].str.contains('.gt/', regex = False)] # Guatemala\n",
    "hn = df[df['URL'].str.contains('.hn/', regex = False)] # Honduras\n",
    "ni = df[df['URL'].str.contains('.ni/', regex = False)] # Nicaragua\n",
    "pa = df[df['URL'].str.contains('.pa/', regex = False)] # Panama\n",
    "pr = df[df['URL'].str.contains('.pr/', regex = False)] # Puerto Rico\n",
    "cu = df[df['URL'].str.contains('.cu/', regex = False)] # Cuba\n",
    "ht = df[df['URL'].str.contains('.ht/', regex = False)] # Haiti\n",
    "jm = df[df['URL'].str.contains('.jm/', regex = False)] # Jamaica\n",
    "tr = df[df['URL'].str.contains('.tt/', regex = False)] # Trinidad and Tobago\n",
    "bs = df[df['URL'].str.contains('.bs/', regex = False)] # Bahamas\n",
    "bb = df[df['URL'].str.contains('.bb/', regex = False)] # Barbados\n",
    "lc = df[df['URL'].str.contains('.lc/', regex = False)] # Saint Lucia\n",
    "gd = df[df['URL'].str.contains('.gd/', regex = False)] # Grenada\n",
    "ag = df[df['URL'].str.contains('.ag/', regex = False)] # Antigua and Barbuda\n",
    "dm = df[df['URL'].str.contains('.dm/', regex = False)] # Dominica\n",
    "sk = df[df['URL'].str.contains('.kn/', regex = False)] # Saint Kitts and Nevis\n",
    "north_america = [us, ca, mx, bz, cr, sv, gt, hn, ni, pa, pr, cu, ht, jm, tr, bs, bb, lc, gd, ag, dm, sk]\n",
    "merged_na = pd.concat(north_america)"
   ]
  },
  {
   "cell_type": "code",
   "execution_count": 79,
   "id": "5081f1c2",
   "metadata": {},
   "outputs": [
    {
     "name": "stdout",
     "output_type": "stream",
     "text": [
      "2452139100\n",
      "3638188.5756676556\n",
      "2417261.5\n"
     ]
    }
   ],
   "source": [
    "mean = (merged_na['Bytes'].mean())\n",
    "median = (merged_na['Bytes'].median())\n",
    "print(merged_na['Bytes'].sum())\n",
    "print(mean)\n",
    "print(median)"
   ]
  },
  {
   "cell_type": "code",
   "execution_count": 81,
   "id": "f55b0338",
   "metadata": {},
   "outputs": [
    {
     "name": "stdout",
     "output_type": "stream",
     "text": [
      "1.396616610330498\n",
      "0.002072131469333083\n",
      "0.00137675206207195\n"
     ]
    }
   ],
   "source": [
    "mean = (merged_na['Statistics: Energy (KWG)'].mean())\n",
    "median = (merged_na['Statistics: Energy (KWG)'].median())\n",
    "print(merged_na['Statistics: Energy (KWG)'].sum())\n",
    "print(mean)\n",
    "print(median)"
   ]
  },
  {
   "cell_type": "code",
   "execution_count": 82,
   "id": "2b5e6ec0",
   "metadata": {},
   "outputs": [
    {
     "name": "stdout",
     "output_type": "stream",
     "text": [
      "617.304541766094\n",
      "0.9158821094452433\n",
      "0.6085244114358445\n"
     ]
    }
   ],
   "source": [
    "mean = (merged_na['Statistics: CO2 Grams, Grid'].mean())\n",
    "median = (merged_na['Statistics: CO2 Grams, Grid'].median())\n",
    "print(merged_na['Statistics: CO2 Grams, Grid'].sum())\n",
    "print(mean)\n",
    "print(median)"
   ]
  },
  {
   "cell_type": "code",
   "execution_count": 83,
   "id": "b7c5e7b1",
   "metadata": {},
   "outputs": [],
   "source": [
    "ar = df[df['URL'].str.contains('.ar/', regex = False)] # Argentina\n",
    "bo = df[df['URL'].str.contains('.bo/', regex = False)] # Bolivia\n",
    "br = df[df['URL'].str.contains('.br/', regex = False)] # Brazil\n",
    "cl = df[df['URL'].str.contains('.cl/', regex = False)] # Chile\n",
    "co = df[df['URL'].str.contains('.co/', regex = False)] # Colombia\n",
    "ec = df[df['URL'].str.contains('.ec/', regex = False)] # Ecuador\n",
    "gy = df[df['URL'].str.contains('.gy/', regex = False)] # Guyana\n",
    "pa = df[df['URL'].str.contains('.pa/', regex = False)] # Panama\n",
    "pe = df[df['URL'].str.contains('.pe/', regex = False)] # Peru\n",
    "py = df[df['URL'].str.contains('.py/', regex = False)] # Paraguay\n",
    "sr = df[df['URL'].str.contains('.sr/', regex = False)] # Suriname\n",
    "tt = df[df['URL'].str.contains('.tt/', regex = False)] # Trinidad and Tobago\n",
    "uy = df[df['URL'].str.contains('.uy/', regex = False)] # Uruguay\n",
    "ve = df[df['URL'].str.contains('.ve/', regex = False)] # Venezuela\n",
    "south_america = [ar, bo, br, cl, co, ec, gy, pa, pe, py, sr, tt, uy, ve]\n",
    "merged_sa = pd.concat(south_america)"
   ]
  },
  {
   "cell_type": "code",
   "execution_count": 84,
   "id": "33d928d4",
   "metadata": {},
   "outputs": [
    {
     "name": "stdout",
     "output_type": "stream",
     "text": [
      "3473422760\n",
      "4105700.661938534\n",
      "2688467.0\n"
     ]
    }
   ],
   "source": [
    "mean = (merged_sa['Bytes'].mean())\n",
    "median = (merged_sa['Bytes'].median())\n",
    "print(merged_sa['Bytes'].sum())\n",
    "print(mean)\n",
    "print(median)"
   ]
  },
  {
   "cell_type": "code",
   "execution_count": 85,
   "id": "02c2ebc0",
   "metadata": {},
   "outputs": [
    {
     "name": "stdout",
     "output_type": "stream",
     "text": [
      "1.9782890462111276\n",
      "0.0023384031279091344\n",
      "0.0015312172415199998\n"
     ]
    }
   ],
   "source": [
    "mean = (merged_sa['Statistics: Energy (KWG)'].mean())\n",
    "median = (merged_sa['Statistics: Energy (KWG)'].median())\n",
    "print(merged_sa['Statistics: Energy (KWG)'].sum())\n",
    "print(mean)\n",
    "print(median)"
   ]
  },
  {
   "cell_type": "code",
   "execution_count": 87,
   "id": "bd92efe7",
   "metadata": {},
   "outputs": [
    {
     "name": "stdout",
     "output_type": "stream",
     "text": [
      "874.4037584253363\n",
      "1.0335741825358584\n",
      "0.6767980207518676\n"
     ]
    }
   ],
   "source": [
    "mean = (merged_sa['Statistics: CO2 Grams, Grid'].mean())\n",
    "median = (merged_sa['Statistics: CO2 Grams, Grid'].median())\n",
    "print(merged_sa['Statistics: CO2 Grams, Grid'].sum())\n",
    "print(mean)\n",
    "print(median)"
   ]
  },
  {
   "cell_type": "code",
   "execution_count": 88,
   "id": "dc9d128f",
   "metadata": {},
   "outputs": [],
   "source": [
    "asia = df[df['URL'].str.contains('.asia/', regex = False)] # Asia\n",
    "ru = df[df['URL'].str.contains('.ru/', regex = False)] # Russia\n",
    "cn = df[df['URL'].str.contains('.cn/', regex = False)] # China\n",
    "jp = df[df['URL'].str.contains('.jp/', regex = False)] # Japan\n",
    "kr = df[df['URL'].str.contains('.kr/', regex = False)] # Korea\n",
    "tw = df[df['URL'].str.contains('.tw/', regex = False)] # Taiwan\n",
    "hk = df[df['URL'].str.contains('.hk/', regex = False)] # Hong Kong\n",
    "id = df[df['URL'].str.contains('.id/', regex = False)] # Indonesia\n",
    "my = df[df['URL'].str.contains('.my/', regex = False)] # Malaysia\n",
    "ph = df[df['URL'].str.contains('.ph/', regex = False)] # Philippines\n",
    "sg = df[df['URL'].str.contains('.sg/', regex = False)] # Singapore\n",
    "th = df[df['URL'].str.contains('.th/', regex = False)] # Thailand\n",
    "vn = df[df['URL'].str.contains('.vn/', regex = False)] # Vietnam\n",
    "id = df[df['URL'].str.contains('.in/', regex = False)] # India\n",
    "kp = df[df['URL'].str.contains('.kp/', regex = False)] # North Korea\n",
    "vn = df[df['URL'].str.contains('.vn/', regex = False)] # Vietnam\n",
    "af = df[df['URL'].str.contains('.af/', regex = False)] # Afghanistan\n",
    "am = df[df['URL'].str.contains('.am/', regex = False)] # Armenia\n",
    "az = df[df['URL'].str.contains('.az/', regex = False)] # Azerbaijan\n",
    "bd = df[df['URL'].str.contains('.bd/', regex = False)] # Bangladesh\n",
    "bt = df[df['URL'].str.contains('.bt/', regex = False)] # Bhutan\n",
    "bn = df[df['URL'].str.contains('.bn/', regex = False)] # Brunei\n",
    "kh = df[df['URL'].str.contains('.kh/', regex = False)] # Cambodia\n",
    "\n",
    "list_asia = [asia, ru, cn, jp, kr, tw, hk, id, my, ph, sg, th, vn, id, kp, vn, af, am, az, bd, bt, bn, kh]\n",
    "merged_asia = pd.concat(list_asia)\n"
   ]
  },
  {
   "cell_type": "code",
   "execution_count": 89,
   "id": "8eef2bb8",
   "metadata": {},
   "outputs": [
    {
     "name": "stdout",
     "output_type": "stream",
     "text": [
      "17369233191\n",
      "4705833.972094283\n",
      "2983901.0\n"
     ]
    }
   ],
   "source": [
    "mean = (merged_asia['Bytes'].mean())\n",
    "median = (merged_asia['Bytes'].median())\n",
    "print(merged_asia['Bytes'].sum())\n",
    "print(mean)\n",
    "print(median)"
   ]
  },
  {
   "cell_type": "code",
   "execution_count": 90,
   "id": "bb2912d4",
   "metadata": {},
   "outputs": [
    {
     "name": "stdout",
     "output_type": "stream",
     "text": [
      "9.892652330878992\n",
      "0.0026802092470547254\n",
      "0.0016994817709084\n"
     ]
    }
   ],
   "source": [
    "mean = (merged_asia['Statistics: Energy (KWG)'].mean())\n",
    "median = (merged_asia['Statistics: Energy (KWG)'].median())\n",
    "print(merged_asia['Statistics: Energy (KWG)'].sum())\n",
    "print(mean)\n",
    "print(median)"
   ]
  },
  {
   "cell_type": "code",
   "execution_count": 91,
   "id": "01437be5",
   "metadata": {},
   "outputs": [
    {
     "name": "stdout",
     "output_type": "stream",
     "text": [
      "4372.552330248593\n",
      "1.1846524871982098\n",
      "0.7511709427415393\n"
     ]
    }
   ],
   "source": [
    "mean = (merged_asia['Statistics: CO2 Grams, Grid'].mean())\n",
    "median = (merged_asia['Statistics: CO2 Grams, Grid'].median())\n",
    "print(merged_asia['Statistics: CO2 Grams, Grid'].sum())\n",
    "print(mean)\n",
    "print(median)"
   ]
  },
  {
   "cell_type": "code",
   "execution_count": 92,
   "id": "b85b1eba",
   "metadata": {},
   "outputs": [],
   "source": [
    "ae = df[df['URL'].str.contains('.ae/', regex = False)] # United Arab Emirates\n",
    "sa = df[df['URL'].str.contains('.sa/', regex = False)] # Saudi Arabia\n",
    "bh = df[df['URL'].str.contains('.bh/', regex = False)] # Bahrain\n",
    "iq = df[df['URL'].str.contains('.iq/', regex = False)] # Iraq\n",
    "jo = df[df['URL'].str.contains('.jo/', regex = False)] # Jordan\n",
    "kw = df[df['URL'].str.contains('.kw/', regex = False)] # Kuwait\n",
    "lb = df[df['URL'].str.contains('.lb/', regex = False)] # Lebanon\n",
    "om = df[df['URL'].str.contains('.om/', regex = False)] # Oman\n",
    "qa = df[df['URL'].str.contains('.qa/', regex = False)] # Qatar\n",
    "sy = df[df['URL'].str.contains('.sy/', regex = False)] # Syria\n",
    "tr = df[df['URL'].str.contains('.tr/', regex = False)] # Turkey\n",
    "ir = df[df['URL'].str.contains('.ir/', regex = False)] # Iran\n",
    "il = df[df['URL'].str.contains('.il/', regex = False)] # Israel\n",
    "\n",
    "middle_east = [ae, sa, bh, iq, jo, kw, lb, om, qa, sy, tr, ir, il]\n",
    "merged_middle = pd.concat(middle_east)"
   ]
  },
  {
   "cell_type": "code",
   "execution_count": 94,
   "id": "762cb814",
   "metadata": {},
   "outputs": [
    {
     "name": "stdout",
     "output_type": "stream",
     "text": [
      "2234840438\n",
      "4560898.853061224\n",
      "2830944.5\n"
     ]
    }
   ],
   "source": [
    "mean = (merged_middle['Bytes'].mean())\n",
    "median = (merged_middle['Bytes'].median())\n",
    "print(merged_middle['Bytes'].sum())\n",
    "print(mean)\n",
    "print(median)"
   ]
  },
  {
   "cell_type": "code",
   "execution_count": 95,
   "id": "ce9ca6cc",
   "metadata": {},
   "outputs": [
    {
     "name": "stdout",
     "output_type": "stream",
     "text": [
      "1.2728540877428605\n",
      "0.002597661403556858\n",
      "0.00161236534730995\n"
     ]
    }
   ],
   "source": [
    "mean = (merged_middle['Statistics: Energy (KWG)'].mean())\n",
    "median = (merged_middle['Statistics: Energy (KWG)'].median())\n",
    "print(merged_middle['Statistics: Energy (KWG)'].sum())\n",
    "print(mean)\n",
    "print(median)"
   ]
  },
  {
   "cell_type": "code",
   "execution_count": 96,
   "id": "95778d4e",
   "metadata": {},
   "outputs": [
    {
     "name": "stdout",
     "output_type": "stream",
     "text": [
      "562.6015067823546\n",
      "1.1481663403721523\n",
      "0.7126654835110064\n"
     ]
    }
   ],
   "source": [
    "mean = (merged_middle['Statistics: CO2 Grams, Grid'].mean())\n",
    "median = (merged_middle['Statistics: CO2 Grams, Grid'].median())\n",
    "print(merged_middle['Statistics: CO2 Grams, Grid'].sum())\n",
    "print(mean)\n",
    "print(median)"
   ]
  },
  {
   "cell_type": "code",
   "execution_count": 97,
   "id": "b5f47fba",
   "metadata": {},
   "outputs": [],
   "source": [
    "au = df[df['URL'].str.contains('.au/', regex = False)]\n",
    "nz = df[df['URL'].str.contains('.nz/', regex = False)]\n",
    "fiji = df[df['URL'].str.contains('.fj/', regex = False)]\n",
    "amersam = df[df['URL'].str.contains('.as/', regex = False)]\n",
    "guam = df[df['URL'].str.contains('.gu/', regex = False)]\n",
    "\n",
    "oceania = [au, nz, fiji, amersam, guam]\n",
    "merged_oa = pd.concat(oceania)"
   ]
  },
  {
   "cell_type": "code",
   "execution_count": 98,
   "id": "d8e537d5",
   "metadata": {},
   "outputs": [
    {
     "name": "stdout",
     "output_type": "stream",
     "text": [
      "1473186537\n",
      "3664643.1268656715\n",
      "2987385.0\n"
     ]
    }
   ],
   "source": [
    "mean = (merged_oa['Bytes'].mean())\n",
    "median = (merged_oa['Bytes'].median())\n",
    "print(merged_oa['Bytes'].sum())\n",
    "print(mean)\n",
    "print(median)"
   ]
  },
  {
   "cell_type": "code",
   "execution_count": 99,
   "id": "22107f43",
   "metadata": {},
   "outputs": [
    {
     "name": "stdout",
     "output_type": "stream",
     "text": [
      "0.8390538643135957\n",
      "0.0020871986674467556\n",
      "0.0017014660842250501\n"
     ]
    }
   ],
   "source": [
    "mean = (merged_oa['Statistics: Energy (KWG)'].mean())\n",
    "median = (merged_oa['Statistics: Energy (KWG)'].median())\n",
    "print(merged_oa['Statistics: Energy (KWG)'].sum())\n",
    "print(mean)\n",
    "print(median)"
   ]
  },
  {
   "cell_type": "code",
   "execution_count": 100,
   "id": "bec34f3a",
   "metadata": {},
   "outputs": [
    {
     "name": "stdout",
     "output_type": "stream",
     "text": [
      "370.86180802661806\n",
      "0.9225418110114877\n",
      "0.7520480092274957\n"
     ]
    }
   ],
   "source": [
    "mean = (merged_oa['Statistics: CO2 Grams, Grid'].mean())\n",
    "median = (merged_oa['Statistics: CO2 Grams, Grid'].median())\n",
    "print(merged_oa['Statistics: CO2 Grams, Grid'].sum())\n",
    "print(mean)\n",
    "print(median)"
   ]
  },
  {
   "cell_type": "code",
   "execution_count": 101,
   "id": "3b71f745",
   "metadata": {},
   "outputs": [],
   "source": [
    "ao = df[df['URL'].str.contains('.ao/', regex = False)] # Angola\n",
    "bf = df[df['URL'].str.contains('.bf/', regex = False)] # Burkina Faso\n",
    "bi = df[df['URL'].str.contains('.bi/', regex = False)] # Burundi\n",
    "bj = df[df['URL'].str.contains('.bj/', regex = False)] # Benin\n",
    "bw = df[df['URL'].str.contains('.bw/', regex = False)] # Botswana\n",
    "cd = df[df['URL'].str.contains('.cd/', regex = False)] # Congo\n",
    "cf = df[df['URL'].str.contains('.cf/', regex = False)] # Central African Republic\n",
    "cg = df[df['URL'].str.contains('.cg/', regex = False)] # Congo\n",
    "ci = df[df['URL'].str.contains('.ci/', regex = False)] # Cote d'Ivoire\n",
    "cm = df[df['URL'].str.contains('.cm/', regex = False)] # Cameroon\n",
    "cv = df[df['URL'].str.contains('.cv/', regex = False)] # Cape Verde\n",
    "dj = df[df['URL'].str.contains('.dj/', regex = False)] # Djibouti\n",
    "dz = df[df['URL'].str.contains('.dz/', regex = False)] # Algeria\n",
    "eg = df[df['URL'].str.contains('.eg/', regex = False)] # Egypt\n",
    "er = df[df['URL'].str.contains('.er/', regex = False)] # Eritrea\n",
    "et = df[df['URL'].str.contains('.et/', regex = False)] # Ethiopia\n",
    "ga = df[df['URL'].str.contains('.ga/', regex = False)] # Gabon\n",
    "gh = df[df['URL'].str.contains('.gh/', regex = False)] # Ghana\n",
    "gm = df[df['URL'].str.contains('.gm/', regex = False)] # Gambia\n",
    "gn = df[df['URL'].str.contains('.gn/', regex = False)] # Guinea\n",
    "gw = df[df['URL'].str.contains('.gw/', regex = False)] # Guinea-Bissau\n",
    "ke = df[df['URL'].str.contains('.ke/', regex = False)] # Kenya\n",
    "km = df[df['URL'].str.contains('.km/', regex = False)] # Comoros\n",
    "lr = df[df['URL'].str.contains('.lr/', regex = False)] # Liberia\n",
    "ls = df[df['URL'].str.contains('.ls/', regex = False)] # Lesotho\n",
    "ly = df[df['URL'].str.contains('.ly/', regex = False)] # Libya\n",
    "ma = df[df['URL'].str.contains('.ma/', regex = False)] # Morocco\n",
    "mg = df[df['URL'].str.contains('.mg/', regex = False)] # Madagascar\n",
    "ml = df[df['URL'].str.contains('.ml/', regex = False)] # Mali\n",
    "mr = df[df['URL'].str.contains('.mr/', regex = False)] # Mauritania\n",
    "mu = df[df['URL'].str.contains('.mu/', regex = False)] # Mauritius\n",
    "mw = df[df['URL'].str.contains('.mw/', regex = False)] # Malawi\n",
    "mz = df[df['URL'].str.contains('.mz/', regex = False)] # Mozambique\n",
    "na = df[df['URL'].str.contains('.na/', regex = False)] # Namibia\n",
    "ne = df[df['URL'].str.contains('.ne/', regex = False)] # Niger\n",
    "ng = df[df['URL'].str.contains('.ng/', regex = False)] # Nigeria\n",
    "rw = df[df['URL'].str.contains('.rw/', regex = False)] # Rwanda\n",
    "sc = df[df['URL'].str.contains('.sc/', regex = False)] # Seychelles\n",
    "sd = df[df['URL'].str.contains('.sd/', regex = False)] # Sudan\n",
    "sl = df[df['URL'].str.contains('.sl/', regex = False)] # Sierra Leone\n",
    "sn = df[df['URL'].str.contains('.sn/', regex = False)] # Senegal\n",
    "so = df[df['URL'].str.contains('.so/', regex = False)] # Somalia\n",
    "ss = df[df['URL'].str.contains('.ss/', regex = False)] # South Sudan\n",
    "st = df[df['URL'].str.contains('.st/', regex = False)] # Sao Tome and Principe\n",
    "sz = df[df['URL'].str.contains('.sz/', regex = False)] # Swaziland\n",
    "tg = df[df['URL'].str.contains('.tg/', regex = False)] # Togo\n",
    "tn = df[df['URL'].str.contains('.tn/', regex = False)] # Tunisia\n",
    "tz = df[df['URL'].str.contains('.tz/', regex = False)] # Tanzania\n",
    "ug = df[df['URL'].str.contains('.ug/', regex = False)] # Uganda\n",
    "zm = df[df['URL'].str.contains('.zm/', regex = False)] # Zambia\n",
    "zw = df[df['URL'].str.contains('.zw/', regex = False)] # Zimbabwe\n",
    "\n",
    "africa = [ao, bf, bi, bj, bw, cd, cf, cg, ci, cm, cv, dj, dz, eg, er, et, ga, gh, gm, gn, gw, ke, km, lr, ls, ly, ma, mg, ml, mr, mu, mw, mz, na, ne, ng, rw, sc, sd, sl, sn, so, ss, st, sz, tg, tn, tz, ug, zm, zw]\n",
    "merged_africa = pd.concat(africa)"
   ]
  },
  {
   "cell_type": "code",
   "execution_count": 102,
   "id": "c3042cbc",
   "metadata": {},
   "outputs": [
    {
     "name": "stdout",
     "output_type": "stream",
     "text": [
      "1072575474\n",
      "5012034.925233644\n",
      "1785143.5\n"
     ]
    }
   ],
   "source": [
    "mean = (merged_africa['Bytes'].mean())\n",
    "median = (merged_africa['Bytes'].median())\n",
    "print(merged_africa['Bytes'].sum())\n",
    "print(mean)\n",
    "print(median)"
   ]
  },
  {
   "cell_type": "code",
   "execution_count": 103,
   "id": "3f4c2743",
   "metadata": {},
   "outputs": [
    {
     "name": "stdout",
     "output_type": "stream",
     "text": [
      "0.6108857049836691\n",
      "0.0028546060980545285\n",
      "0.00101672905257435\n"
     ]
    }
   ],
   "source": [
    "mean = (merged_africa['Statistics: Energy (KWG)'].mean())\n",
    "median = (merged_africa['Statistics: Energy (KWG)'].median())\n",
    "print(merged_africa['Statistics: Energy (KWG)'].sum())\n",
    "print(mean)\n",
    "print(median)"
   ]
  },
  {
   "cell_type": "code",
   "execution_count": 104,
   "id": "f2299983",
   "metadata": {},
   "outputs": [
    {
     "name": "stdout",
     "output_type": "stream",
     "text": [
      "270.0114816027856\n",
      "1.2617358953401194\n",
      "0.44939424123787314\n"
     ]
    }
   ],
   "source": [
    "mean = (merged_africa['Statistics: CO2 Grams, Grid'].mean())\n",
    "median = (merged_africa['Statistics: CO2 Grams, Grid'].median())\n",
    "print(merged_africa['Statistics: CO2 Grams, Grid'].sum())\n",
    "print(mean)\n",
    "print(median)"
   ]
  },
  {
   "cell_type": "code",
   "execution_count": 45,
   "id": "5a0f69b8",
   "metadata": {},
   "outputs": [
    {
     "data": {
      "text/plain": [
       "40633     0.000042\n",
       "1594      0.000043\n",
       "24137     0.000047\n",
       "25294     0.000050\n",
       "20385     0.000052\n",
       "           ...    \n",
       "18209    39.883307\n",
       "39068    43.674190\n",
       "36484    43.990847\n",
       "40959    55.743450\n",
       "41527    76.550528\n",
       "Name: Statistics: CO2 Grams, Grid, Length: 50034, dtype: float64"
      ]
     },
     "execution_count": 45,
     "metadata": {},
     "output_type": "execute_result"
    }
   ],
   "source": [
    "df[\"Statistics: CO2 Grams, Grid\"].sort_values()"
   ]
  },
  {
   "cell_type": "code",
   "execution_count": 46,
   "id": "d6bf15f0",
   "metadata": {},
   "outputs": [
    {
     "data": {
      "text/plain": [
       "0.562928282521991"
      ]
     },
     "execution_count": 46,
     "metadata": {},
     "output_type": "execute_result"
    }
   ],
   "source": [
    "df[\"Statistics: CO2 Grams, Grid\"].median()"
   ]
  },
  {
   "cell_type": "code",
   "execution_count": 47,
   "id": "a534d158",
   "metadata": {},
   "outputs": [
    {
     "data": {
      "text/html": [
       "<div>\n",
       "<style scoped>\n",
       "    .dataframe tbody tr th:only-of-type {\n",
       "        vertical-align: middle;\n",
       "    }\n",
       "\n",
       "    .dataframe tbody tr th {\n",
       "        vertical-align: top;\n",
       "    }\n",
       "\n",
       "    .dataframe thead th {\n",
       "        text-align: right;\n",
       "    }\n",
       "</style>\n",
       "<table border=\"1\" class=\"dataframe\">\n",
       "  <thead>\n",
       "    <tr style=\"text-align: right;\">\n",
       "      <th></th>\n",
       "      <th>Bytes</th>\n",
       "      <th>Cleaner Than %</th>\n",
       "      <th>Statistics: Adjusted Bytes</th>\n",
       "      <th>Statistics: CO2 Grams, Grid</th>\n",
       "      <th>Statistics: CO2 Grams, Renewable</th>\n",
       "      <th>Statistics: CO2 Litres, Grid</th>\n",
       "      <th>Statistics: CO2 Litres, Renewable</th>\n",
       "      <th>Statistics: Energy (KWG)</th>\n",
       "    </tr>\n",
       "    <tr>\n",
       "      <th>Green Hosting</th>\n",
       "      <th></th>\n",
       "      <th></th>\n",
       "      <th></th>\n",
       "      <th></th>\n",
       "      <th></th>\n",
       "      <th></th>\n",
       "      <th></th>\n",
       "      <th></th>\n",
       "    </tr>\n",
       "  </thead>\n",
       "  <tbody>\n",
       "    <tr>\n",
       "      <th>False</th>\n",
       "      <td>104068160248</td>\n",
       "      <td>1117493.0</td>\n",
       "      <td>7.857146e+10</td>\n",
       "      <td>26198.247878</td>\n",
       "      <td>22713.051102</td>\n",
       "      <td>14571.46547</td>\n",
       "      <td>12632.999023</td>\n",
       "      <td>59.272054</td>\n",
       "    </tr>\n",
       "    <tr>\n",
       "      <th>True</th>\n",
       "      <td>80863090299</td>\n",
       "      <td>1341892.0</td>\n",
       "      <td>6.105163e+10</td>\n",
       "      <td>20356.574757</td>\n",
       "      <td>17648.505536</td>\n",
       "      <td>11322.32688</td>\n",
       "      <td>9816.098779</td>\n",
       "      <td>46.055599</td>\n",
       "    </tr>\n",
       "  </tbody>\n",
       "</table>\n",
       "</div>"
      ],
      "text/plain": [
       "                      Bytes  Cleaner Than %  Statistics: Adjusted Bytes  \\\n",
       "Green Hosting                                                             \n",
       "False          104068160248       1117493.0                7.857146e+10   \n",
       "True            80863090299       1341892.0                6.105163e+10   \n",
       "\n",
       "               Statistics: CO2 Grams, Grid  Statistics: CO2 Grams, Renewable  \\\n",
       "Green Hosting                                                                  \n",
       "False                         26198.247878                      22713.051102   \n",
       "True                          20356.574757                      17648.505536   \n",
       "\n",
       "               Statistics: CO2 Litres, Grid  \\\n",
       "Green Hosting                                 \n",
       "False                           14571.46547   \n",
       "True                            11322.32688   \n",
       "\n",
       "               Statistics: CO2 Litres, Renewable  Statistics: Energy (KWG)  \n",
       "Green Hosting                                                               \n",
       "False                               12632.999023                 59.272054  \n",
       "True                                 9816.098779                 46.055599  "
      ]
     },
     "execution_count": 47,
     "metadata": {},
     "output_type": "execute_result"
    }
   ],
   "source": [
    "pd.pivot_table(data=df, index=['Green Hosting'], aggfunc=np.sum)"
   ]
  },
  {
   "cell_type": "markdown",
   "id": "cdd1a589",
   "metadata": {},
   "source": [
    "#### For \"Top/Bottom 1000\""
   ]
  },
  {
   "cell_type": "code",
   "execution_count": 48,
   "id": "a4858a31",
   "metadata": {},
   "outputs": [],
   "source": [
    "first1000 = df.head(1000)\n",
    "last1000 = df.tail(1000)"
   ]
  },
  {
   "cell_type": "code",
   "execution_count": 49,
   "id": "9e5c40fe",
   "metadata": {},
   "outputs": [
    {
     "data": {
      "image/png": "[encoded data removed]",
      "text/plain": [
       "<Figure size 432x288 with 1 Axes>"
      ]
     },
     "metadata": {
      "needs_background": "light"
     },
     "output_type": "display_data"
    }
   ],
   "source": [
    "mean = (first1000['Bytes'].mean() / 1e+6)\n",
    "median = (first1000['Bytes'].median() / 1e+6)\n",
    "std = (first1000['Bytes'].std() / 1e+6)\n",
    "data = [mean, median, std]\n",
    "dfmmms = pd.DataFrame(data)\n",
    "\n",
    "ax = dfmmms.T.plot(kind='bar', fontsize = 14)\n",
    "for container in ax.containers:\n",
    "    ax.bar_label(container)\n",
    "ax.legend(['Mean MB', 'Median MB', 'StdDev MB'], fontsize = 14)\n",
    "plt.savefig('images/graphs/top1000_sizes.png')\n",
    "plt.show()\n"
   ]
  },
  {
   "cell_type": "code",
   "execution_count": 50,
   "id": "1bd36744",
   "metadata": {},
   "outputs": [
    {
     "data": {
      "image/png": "[encoded data removed]",
      "text/plain": [
       "<Figure size 432x288 with 1 Axes>"
      ]
     },
     "metadata": {
      "needs_background": "light"
     },
     "output_type": "display_data"
    }
   ],
   "source": [
    "mean = (last1000['Bytes'].mean() / 1e+6)\n",
    "median = (last1000['Bytes'].median() / 1e+6)\n",
    "std = (last1000['Bytes'].std() / 1e+6)\n",
    "data = [mean, median, std]\n",
    "dfmmms = pd.DataFrame(data)\n",
    "\n",
    "ax = dfmmms.T.plot(kind='bar', fontsize = 14)\n",
    "for container in ax.containers:\n",
    "    ax.bar_label(container)\n",
    "ax.legend(['Mean MB', 'Median MB', 'StdDev MB'], fontsize = 14)\n",
    "plt.savefig('images/graphs/bottom1000_sizes.png')\n",
    "plt.show()"
   ]
  },
  {
   "cell_type": "code",
   "execution_count": 51,
   "id": "bf7e0e75",
   "metadata": {},
   "outputs": [
    {
     "data": {
      "image/png": "[encoded data removed]",
      "text/plain": [
       "<Figure size 432x288 with 1 Axes>"
      ]
     },
     "metadata": {
      "needs_background": "light"
     },
     "output_type": "display_data"
    }
   ],
   "source": [
    "mean = (first1000['Statistics: CO2 Grams, Grid'].mean())\n",
    "median = (first1000['Statistics: CO2 Grams, Grid'].median())\n",
    "std = (first1000['Statistics: CO2 Grams, Grid'].std())\n",
    "data = [mean, median, std]\n",
    "dfmmms = pd.DataFrame(data)\n",
    "\n",
    "ax = dfmmms.T.plot(kind='bar')\n",
    "for container in ax.containers:\n",
    "    ax.bar_label(container)\n",
    "ax.legend(['Mean CO2', 'Median CO2', 'StdDev CO2'], fontsize = 14)\n",
    "plt.savefig('images/graphs/top1000_co2s.png')\n",
    "plt.show()"
   ]
  },
  {
   "cell_type": "code",
   "execution_count": 52,
   "id": "921f7710",
   "metadata": {},
   "outputs": [
    {
     "data": {
      "image/png": "[encoded data removed]",
      "text/plain": [
       "<Figure size 432x288 with 1 Axes>"
      ]
     },
     "metadata": {
      "needs_background": "light"
     },
     "output_type": "display_data"
    }
   ],
   "source": [
    "mean = (last1000['Statistics: CO2 Grams, Grid'].mean())\n",
    "median = (last1000['Statistics: CO2 Grams, Grid'].median())\n",
    "std = (last1000['Statistics: CO2 Grams, Grid'].std())\n",
    "data = [mean, median, std]\n",
    "dfmmms = pd.DataFrame(data)\n",
    "\n",
    "ax = dfmmms.T.plot(kind='bar')\n",
    "for container in ax.containers:\n",
    "    ax.bar_label(container)\n",
    "ax.legend(['Mean CO2', 'Median CO2', 'StdDev CO2'])\n",
    "plt.savefig('images/graphs/bottom1000_co2s.png')\n",
    "plt.show()"
   ]
  },
  {
   "cell_type": "markdown",
   "id": "aa87a6b1",
   "metadata": {},
   "source": [
    "### For \"Hosting Type\""
   ]
  },
  {
   "cell_type": "code",
   "execution_count": 53,
   "id": "41d585c4",
   "metadata": {},
   "outputs": [],
   "source": [
    "ghtable = pd.pivot_table(data=df, index=['Green Hosting'], aggfunc=np.sum)"
   ]
  },
  {
   "cell_type": "code",
   "execution_count": 54,
   "id": "565b1fec",
   "metadata": {},
   "outputs": [
    {
     "data": {
      "text/html": [
       "<div>\n",
       "<style scoped>\n",
       "    .dataframe tbody tr th:only-of-type {\n",
       "        vertical-align: middle;\n",
       "    }\n",
       "\n",
       "    .dataframe tbody tr th {\n",
       "        vertical-align: top;\n",
       "    }\n",
       "\n",
       "    .dataframe thead th {\n",
       "        text-align: right;\n",
       "    }\n",
       "</style>\n",
       "<table border=\"1\" class=\"dataframe\">\n",
       "  <thead>\n",
       "    <tr style=\"text-align: right;\">\n",
       "      <th></th>\n",
       "      <th>Bytes</th>\n",
       "      <th>Statistics: Energy (KWG)</th>\n",
       "      <th>Statistics: CO2 Grams, Grid</th>\n",
       "      <th>Statistics: CO2 Litres, Grid</th>\n",
       "    </tr>\n",
       "    <tr>\n",
       "      <th>Green Hosting</th>\n",
       "      <th></th>\n",
       "      <th></th>\n",
       "      <th></th>\n",
       "      <th></th>\n",
       "    </tr>\n",
       "  </thead>\n",
       "  <tbody>\n",
       "    <tr>\n",
       "      <th>False</th>\n",
       "      <td>104068160248</td>\n",
       "      <td>59.272054</td>\n",
       "      <td>26198.247878</td>\n",
       "      <td>14571.46547</td>\n",
       "    </tr>\n",
       "    <tr>\n",
       "      <th>True</th>\n",
       "      <td>80863090299</td>\n",
       "      <td>46.055599</td>\n",
       "      <td>20356.574757</td>\n",
       "      <td>11322.32688</td>\n",
       "    </tr>\n",
       "  </tbody>\n",
       "</table>\n",
       "</div>"
      ],
      "text/plain": [
       "                      Bytes  Statistics: Energy (KWG)  \\\n",
       "Green Hosting                                           \n",
       "False          104068160248                 59.272054   \n",
       "True            80863090299                 46.055599   \n",
       "\n",
       "               Statistics: CO2 Grams, Grid  Statistics: CO2 Litres, Grid  \n",
       "Green Hosting                                                             \n",
       "False                         26198.247878                   14571.46547  \n",
       "True                          20356.574757                   11322.32688  "
      ]
     },
     "execution_count": 54,
     "metadata": {},
     "output_type": "execute_result"
    }
   ],
   "source": [
    "ghtable = ghtable.reindex(columns=['Bytes', 'Statistics: Energy (KWG)', 'Statistics: CO2 Grams, Grid', 'Statistics: CO2 Litres, Grid'])\n",
    "ghtable"
   ]
  },
  {
   "cell_type": "code",
   "execution_count": 55,
   "id": "d7ccefb3",
   "metadata": {},
   "outputs": [
    {
     "data": {
      "text/plain": [
       "False    25708\n",
       "True     24326\n",
       "Name: Green Hosting, dtype: int64"
      ]
     },
     "execution_count": 55,
     "metadata": {},
     "output_type": "execute_result"
    }
   ],
   "source": [
    "df[\"Green Hosting\"].value_counts()"
   ]
  },
  {
   "cell_type": "markdown",
   "id": "64f901d6",
   "metadata": {},
   "source": [
    "# Splitting"
   ]
  },
  {
   "cell_type": "code",
   "execution_count": 56,
   "id": "663680c4",
   "metadata": {},
   "outputs": [
    {
     "data": {
      "text/plain": [
       "<AxesSubplot:>"
      ]
     },
     "execution_count": 56,
     "metadata": {},
     "output_type": "execute_result"
    },
    {
     "data": {
      "image/png": "[encoded data removed]",
      "text/plain": [
       "<Figure size 936x936 with 1 Axes>"
      ]
     },
     "metadata": {
      "needs_background": "light"
     },
     "output_type": "display_data"
    }
   ],
   "source": [
    "df[\"Cleaner Than %\"].hist(bins=100, edgecolor='black', linewidth=1.1, figsize=(13,13))"
   ]
  },
  {
   "cell_type": "markdown",
   "id": "326001f1",
   "metadata": {},
   "source": [
    "# Other Charts"
   ]
  },
  {
   "cell_type": "code",
   "execution_count": 61,
   "id": "6dd7f717",
   "metadata": {},
   "outputs": [
    {
     "data": {
      "text/plain": [
       "array([[<AxesSubplot:title={'center':'Bytes'}>,\n",
       "        <AxesSubplot:title={'center':'Cleaner Than %'}>,\n",
       "        <AxesSubplot:title={'center':'Statistics: Adjusted Bytes'}>],\n",
       "       [<AxesSubplot:title={'center':'Statistics: Energy (KWG)'}>,\n",
       "        <AxesSubplot:title={'center':'Statistics: CO2 Grams, Grid'}>,\n",
       "        <AxesSubplot:title={'center':'Statistics: CO2 Litres, Grid'}>],\n",
       "       [<AxesSubplot:title={'center':'Statistics: CO2 Grams, Renewable'}>,\n",
       "        <AxesSubplot:title={'center':'Statistics: CO2 Litres, Renewable'}>,\n",
       "        <AxesSubplot:>]], dtype=object)"
      ]
     },
     "execution_count": 61,
     "metadata": {},
     "output_type": "execute_result"
    },
    {
     "data": {
      "image/png": "[encoded data removed]",
      "text/plain": [
       "<Figure size 3000x2000 with 9 Axes>"
      ]
     },
     "metadata": {
      "needs_background": "light"
     },
     "output_type": "display_data"
    }
   ],
   "source": [
    "dfchart = df.iloc[:, :10]\n",
    "fig = plt.figure(figsize=(15, 10), dpi=200)\n",
    "ax = fig.gca()\n",
    "dfchart.hist(ax=ax, facecolor='wheat', bins=25, edgecolor='black')"
   ]
  }
 ],
 "metadata": {
  "interpreter": {
   "hash": "26de051ba29f2982a8de78e945f0abaf191376122a1563185a90213a26c5da77"
  },
  "kernelspec": {
   "display_name": "Python 3.10.4 64-bit",
   "language": "python",
   "name": "python3"
  },
  "language_info": {
   "codemirror_mode": {
    "name": "ipython",
    "version": 3
   },
   "file_extension": ".py",
   "mimetype": "text/x-python",
   "name": "python",
   "nbconvert_exporter": "python",
   "pygments_lexer": "ipython3",
   "version": "3.10.4"
  }
 },
 "nbformat": 4,
 "nbformat_minor": 5
}
